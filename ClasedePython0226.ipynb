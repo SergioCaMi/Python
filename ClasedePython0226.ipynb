{
 "cells": [
  {
   "cell_type": "code",
   "execution_count": 1,
   "metadata": {},
   "outputs": [
    {
     "name": "stdout",
     "output_type": "stream",
     "text": [
      "Letra: c\n",
      "Letra: a\n",
      "Letra: n\n"
     ]
    }
   ],
   "source": [
    "palabra = \"candado\"\n",
    "for letra in palabra:\n",
    "    if letra == 'd':\n",
    "        break\n",
    "    print(\"Letra:\", letra)"
   ]
  },
  {
   "cell_type": "code",
   "execution_count": 2,
   "metadata": {},
   "outputs": [
    {
     "name": "stdout",
     "output_type": "stream",
     "text": [
      "Letra: c\n",
      "Letra: a\n",
      "Letra: n\n",
      "Letra: a\n",
      "Letra: o\n"
     ]
    }
   ],
   "source": [
    "palabra = \"candado\"\n",
    "for letra in palabra:\n",
    "    if letra == 'd':\n",
    "        continue\n",
    "    print(\"Letra:\", letra)"
   ]
  },
  {
   "cell_type": "code",
   "execution_count": 15,
   "metadata": {},
   "outputs": [
    {
     "name": "stdout",
     "output_type": "stream",
     "text": [
      "upper(): CÁNTARO\n",
      "lpper(): cántaro\n",
      "replace(): Substituiremos 'a' por '@' Cánt@ro\n",
      "split(): ['Pronto', 'llegará', 'la', 'primavera']\n",
      "split(): ['Pronto', 'llegará', 'la primavera']\n",
      "split() en las dos primeras apariciones: ['Pronto', 'llegará', 'la', 'primavera']\n",
      "Hola mundo desde Python\n"
     ]
    }
   ],
   "source": [
    "palabra = \"Cántaro\"\n",
    "frase = \"Pronto llegará la primavera\"\n",
    "print(\"upper():\",palabra.upper())\n",
    "print(\"lpper():\",palabra.lower())\n",
    "print(\"replace(): Substituiremos 'a' por '@'\",palabra.replace('a', '@'))\n",
    "lista = frase.split()\n",
    "lista2 = frase.split(\" \", 2)\n",
    "print(\"split():\", list(lista))\n",
    "print(\"split():\", list(lista2))\n",
    "print(\"split() en las dos primeras apariciones:\", list(lista))\n",
    "\n",
    "# Lista de palabras\n",
    "palabras = ['Hola', 'mundo', 'desde', 'Python']\n",
    "\n",
    "# Unir las palabras con un espacio entre ellas\n",
    "frase = ' '.join(palabras)\n",
    "\n",
    "print(frase)\n"
   ]
  },
  {
   "cell_type": "code",
   "execution_count": 16,
   "metadata": {},
   "outputs": [
    {
     "name": "stdout",
     "output_type": "stream",
     "text": [
      "Enero/Febrero/Marzo\n"
     ]
    }
   ],
   "source": [
    "#El join sirve para concetaner o juntar por un caracter\n",
    "lista = ['Enero','Febrero','Marzo']\n",
    "resultado = \"/\".join(lista)\n",
    "print(resultado)"
   ]
  },
  {
   "cell_type": "code",
   "execution_count": null,
   "metadata": {},
   "outputs": [
    {
     "name": "stdout",
     "output_type": "stream",
     "text": [
      "5 - 8\n"
     ]
    }
   ],
   "source": [
    "#función que sume 3 a un valor\n",
    "def suma3 (numero): \n",
    "    return numero+3\n",
    "a= 5\n",
    "print(a,\"-\", suma3(a))"
   ]
  },
  {
   "cell_type": "code",
   "execution_count": 19,
   "metadata": {},
   "outputs": [
    {
     "name": "stdout",
     "output_type": "stream",
     "text": [
      "Variable    Type        Data/Info\n",
      "---------------------------------\n",
      "a           int         5\n",
      "frase       str         Hola mundo desde Python\n",
      "letra       str         o\n",
      "lista       list        n=3\n",
      "lista2      list        n=3\n",
      "palabra     str         Cántaro\n",
      "palabras    list        n=4\n",
      "resultado   str         Enero/Febrero/Marzo\n",
      "suma3       function    <function suma3 at 0x000002BE88F81800>\n"
     ]
    }
   ],
   "source": [
    "%whos\n"
   ]
  },
  {
   "cell_type": "code",
   "execution_count": 20,
   "metadata": {},
   "outputs": [
    {
     "name": "stdout",
     "output_type": "stream",
     "text": [
      "La suma de a + b es 9\n"
     ]
    }
   ],
   "source": [
    "def sumaab(x,y):\n",
    "    return x+y\n",
    "\n",
    "\n",
    "a = int(input(\"Dima el numero a:\"))\n",
    "b = int(input(\"Dima el numero b:\"))\n",
    "\n",
    "print(\"La suma de a + b es\", sumaab(a,b))"
   ]
  }
 ],
 "metadata": {
  "kernelspec": {
   "display_name": "Python 3",
   "language": "python",
   "name": "python3"
  },
  "language_info": {
   "codemirror_mode": {
    "name": "ipython",
    "version": 3
   },
   "file_extension": ".py",
   "mimetype": "text/x-python",
   "name": "python",
   "nbconvert_exporter": "python",
   "pygments_lexer": "ipython3",
   "version": "3.13.2"
  }
 },
 "nbformat": 4,
 "nbformat_minor": 2
}
