{
 "cells": [
  {
   "cell_type": "code",
   "execution_count": 13,
   "metadata": {},
   "outputs": [
    {
     "name": "stdout",
     "output_type": "stream",
     "text": [
      "['Enero', 'Febrero', 'Marzo', 'Mayo', 'Junio']\n",
      "['Enero', 'Febrero', 'Marzo', 'Mayo', 'Junio', 'Julio', 'Agosto']\n",
      "['Enero', 'Febrero', 'Marzo', 'Abril', 'Mayo', 'Junio', 'Julio', 'Agosto']\n",
      "['Enero', 'Febrero', 'Marzo', 'Abril', 'Mayo', 'Junio', 'Julio', 'Agosto', 'Marzo', 'Junio']\n",
      "['Enero', 'Febrero', 'Marzo', 'Abril', 'Mayo', 'Junio', 'Julio', 'Agosto', 'Junio']\n"
     ]
    }
   ],
   "source": [
    "# Practica 1: Crear una lista con los meses de enero a junio (excepto abril). Luego:\n",
    "#    - Añadir julio y agosto.\n",
    "#    - Insertar abril en su lugar correcto.\n",
    "#    - Añadir marzo y junio al final.\n",
    "#    - Eliminar los elementos desordenados.\n",
    "#        - Respuesta:\n",
    "            \n",
    "            \n",
    "listaMeses = [\"Enero\", \"Febrero\", \"Marzo\", \"Mayo\", \"Junio\"]\n",
    "print(listaMeses)\n",
    "listaMeses.append(\"Julio\")\n",
    "listaMeses.append(\"Agosto\")\n",
    "print(listaMeses)\n",
    "listaMeses.insert(3, \"Abril\")\n",
    "print(listaMeses)\n",
    "listaMeses.append(\"Marzo\")\n",
    "listaMeses.append(\"Junio\")\n",
    "print(listaMeses)\n",
    "del listaMeses[8:9]\n",
    "print(listaMeses)\n",
    "   "
   ]
  },
  {
   "cell_type": "code",
   "execution_count": null,
   "metadata": {},
   "outputs": [],
   "source": [
    "# Practica 2: Escribir un programa que pida un número y determine si es mayor o menor que 20\n",
    "i=int(input('Pon un número:'))\n",
    "print(i)\n",
    "if i>20:\n",
    "    print(i, \"es mayor que 20\")\n",
    "else:\n",
    "    print(i, \"es menor o igual que 20\")"
   ]
  },
  {
   "cell_type": "code",
   "execution_count": null,
   "metadata": {},
   "outputs": [
    {
     "name": "stdout",
     "output_type": "stream",
     "text": [
      "2.5\n",
      "2.5 es menor o igual que 20\n"
     ]
    }
   ],
   "source": [
    "#Practica 2 Bis: lo mismo, pero con números decimales.\n",
    "\n",
    "i=input('Pon un número:')\n",
    "print(float(i))\n",
    "if float(i)>20:\n",
    "    print(float(i), \"es mayor que 20\")\n",
    "else:\n",
    "    print(float(i), \"es menor o igual que 20\")"
   ]
  },
  {
   "cell_type": "code",
   "execution_count": null,
   "metadata": {},
   "outputs": [
    {
     "name": "stdout",
     "output_type": "stream",
     "text": [
      "El día de la semana es Lunes\n",
      "El día de la semana es Martes\n",
      "El día de la semana es Miércoles\n",
      "El día de la semana es Jueves\n",
      "El día de la semana es Viernes\n",
      "El día de la semana es Sábado\n",
      "El día de la semana es Domingo\n"
     ]
    }
   ],
   "source": [
    "#Practica 3:Mediante un bucle que recorra los dias de la semana que estan en la lista semana\n",
    "#mostrar un texto en cada iteración que ponga \"El dia de la semana es XXX\"\n",
    "dias =['Lunes', 'Martes', 'Miércoles', 'Jueves', 'Viernes', 'Sábado', 'Domingo']\n",
    "for dia in dias:\n",
    "    print('El día de la semana es', dia)"
   ]
  },
  {
   "cell_type": "code",
   "execution_count": null,
   "metadata": {},
   "outputs": [
    {
     "name": "stdout",
     "output_type": "stream",
     "text": [
      "El número es 15\n",
      "El número es 37\n",
      "El número es 42\n",
      "El número es 18\n",
      "El número es 26\n",
      "El número es 64\n",
      "El número es 75\n"
     ]
    }
   ],
   "source": [
    "#Practica 4: Mediante un bucle que recorra y muestre con un texto la siguiente lista de numeros [15,37,42,18,26,64,75], \"el numero es X\"\n",
    "numeros=[15,37,42,18,26,64,75]\n",
    "for numero in numeros:\n",
    "    print('El número es', numero)"
   ]
  },
  {
   "cell_type": "code",
   "execution_count": null,
   "metadata": {},
   "outputs": [
    {
     "name": "stdout",
     "output_type": "stream",
     "text": [
      "El número es 6\n",
      "El número es 7\n",
      "El número es 8\n",
      "El número es 9\n",
      "El número es 10\n",
      "El número es 11\n",
      "El número es 12\n",
      "El número es 13\n",
      "El número es 14\n",
      "El número es 15\n",
      "El número es 16\n",
      "El número es 17\n",
      "El número es 18\n",
      "El número es 19\n",
      "El número es 20\n",
      "El número es 21\n",
      "El número es 22\n",
      "El número es 23\n"
     ]
    }
   ],
   "source": [
    "#Practica 5: Mediante un bucle que recorra y muestre con un texto una lista generada con range, para ver desde el numero 6 hasta el 23, con el texto \"el numero es X\"\n",
    "numeros=range(6,24)\n",
    "for numero in numeros:\n",
    "    print('El número es', numero)"
   ]
  },
  {
   "cell_type": "code",
   "execution_count": null,
   "metadata": {},
   "outputs": [
    {
     "name": "stdout",
     "output_type": "stream",
     "text": [
      "El número es 54\n",
      "El número es 52\n",
      "El número es 50\n",
      "El número es 48\n",
      "El número es 46\n",
      "El número es 44\n",
      "El número es 42\n",
      "El número es 40\n",
      "El número es 38\n",
      "El número es 36\n",
      "El número es 34\n",
      "El número es 32\n",
      "El número es 30\n",
      "El número es 28\n",
      "El número es 26\n",
      "El número es 24\n",
      "El número es 22\n",
      "El número es 20\n",
      "El número es 18\n",
      "El número es 16\n",
      "El número es 14\n",
      "El número es 12\n"
     ]
    }
   ],
   "source": [
    "#Practica 6: Mediante un bucle que recorra y muestre con un texto una lista generada con range, para ver desde el numero 54 hasta el 12, de dos en dos con el texto \"el numero es X\"\n",
    "numeros=range(54,11, -2)\n",
    "for i in numeros:\n",
    "    print('El número es', i)"
   ]
  },
  {
   "cell_type": "code",
   "execution_count": null,
   "metadata": {},
   "outputs": [
    {
     "name": "stdout",
     "output_type": "stream",
     "text": [
      "El  1  mes del año es Enero\n",
      "El  2  mes del año es Febrero\n",
      "El  3  mes del año es Marzo\n",
      "El  4  mes del año es Abril\n",
      "El  5  mes del año es Mayo\n",
      "El  6  mes del año es Junio\n",
      "El  7  mes del año es Julio\n",
      "El  8  mes del año es Agosto\n",
      "El  9  mes del año es Septiembre\n",
      "El  10  mes del año es Octubre\n",
      "El  11  mes del año es Noviembre\n",
      "El  12  mes del año es Diciembre\n"
     ]
    }
   ],
   "source": [
    "#Practica 7: Mediante un bucle que recorra y muestre la lista de los meses del año y mostrar un texto que ponga, \"El 1 mes del año es enero\", \"el 2 mes del año es febrero\"\n",
    "meses=['Enero','Febrero','Marzo','Abril','Mayo','Junio','Julio','Agosto','Septiembre','Octubre','Noviembre','Diciembre']\n",
    "i=1\n",
    "for x in meses:\n",
    "    print('El ',i ,' mes del año es', x)\n",
    "    i+=1"
   ]
  },
  {
   "cell_type": "code",
   "execution_count": null,
   "metadata": {},
   "outputs": [
    {
     "name": "stdout",
     "output_type": "stream",
     "text": [
      "El  primer  mes del año es Enero\n",
      "El  segundo  mes del año es Febrero\n",
      "El  tercero  mes del año es Marzo\n",
      "El  cuarto  mes del año es Abril\n",
      "El  quinto  mes del año es Mayo\n",
      "El  sexto  mes del año es Junio\n",
      "El  septimo  mes del año es Julio\n",
      "El  octavo  mes del año es Agosto\n",
      "El  noveno  mes del año es Septiembre\n",
      "El  décimo  mes del año es Octubre\n",
      "El  undécimo  mes del año es Noviembre\n",
      "El  decimosegundo  mes del año es Diciembre\n"
     ]
    }
   ],
   "source": [
    "#Practica 8: Mediante un bucle que recorra y muestre la lista de los meses del año y mostrar un texto que ponga, \"El primer mes del año es enero\", \"el segundo mes del año es febrero\"\n",
    "meses=['Enero','Febrero','Marzo','Abril','Mayo','Junio','Julio','Agosto','Septiembre','Octubre','Noviembre','Diciembre']\n",
    "orden=['primer','segundo','tercero','cuarto','quinto','sexto','septimo','octavo','noveno','décimo','undécimo','decimosegundo']\n",
    "i=0\n",
    "for x in meses:\n",
    "    print('El ',orden[i] ,' mes del año es', x)\n",
    "    i+=1"
   ]
  },
  {
   "cell_type": "code",
   "execution_count": null,
   "metadata": {},
   "outputs": [
    {
     "name": "stdout",
     "output_type": "stream",
     "text": [
      "El numero 5 está en el rango 0-30\n",
      "El numero -8 está fuera de rango\n",
      "El numero 142 está en el rango 121-150\n",
      "El numero 75 está en el rango 61-90\n",
      "El numero 62 está en el rango 61-90\n",
      "El numero 37 está en el rango 31-60\n",
      "El numero -20 está fuera de rango\n",
      "El numero 41 está en el rango 31-60\n"
     ]
    }
   ],
   "source": [
    "#Practica 9: Con un bucle for recorrer la siguiente lista [5, -8, 142, 75, 62, 37, -20, 41] y clasificar los números por tramos de 30 en 30, empezando por el 0, y debe indicar un texto donde me diga \"el número X está comprendido entre 0 y 30. Si no está en ningún tramo, debe decirlo.\n",
    "\n",
    "numeros = [5, -8, 142, 75, 62, 37, -20, 41] \n",
    "for numero in numeros:\n",
    "    if numero >=0 and numero <= 30:\n",
    "        print(\"El numero\", numero, \"está en el rango 0-30\")\n",
    "    elif numero >30 and numero <= 60:\n",
    "        print(\"El numero\", numero, \"está en el rango 31-60\")\n",
    "    elif numero >60 and numero <= 90:\n",
    "        print(\"El numero\", numero, \"está en el rango 61-90\")\n",
    "    elif numero >90 and numero <= 120:\n",
    "        print(\"El numero\", numero, \"está en el rango 91-120\")\n",
    "    elif numero >120 and numero <= 150:\n",
    "        print(\"El numero\", numero, \"está en el rango 121-150\")\n",
    "    else:\n",
    "        print(\"El numero\", numero, \"está fuera de rango\")\n"
   ]
  },
  {
   "cell_type": "code",
   "execution_count": null,
   "metadata": {},
   "outputs": [
    {
     "name": "stdout",
     "output_type": "stream",
     "text": [
      "S\n",
      "U\n",
      "P\n",
      "E\n",
      "R\n",
      "C\n",
      "L\n",
      "I\n",
      "F\n",
      "R\n",
      "G\n",
      "I\n",
      "L\n",
      "I\n",
      "S\n",
      "T\n",
      "I\n",
      "C\n",
      "O\n",
      "E\n",
      "S\n",
      "P\n",
      "I\n",
      "L\n",
      "I\n",
      "D\n",
      "O\n"
     ]
    }
   ],
   "source": [
    "#Practica 10: Imprimir por separado y con un bucle, las letras de la palabra Supercalifragilisticoespialidoso, en mayusculas menos la letra a\n",
    "\n",
    "palabra = \"Supercalifragilisticoespialido\"\n",
    "for letra in palabra:\n",
    "    if letra != 'a':\n",
    "        print(letra.upper())\n",
    "    \n",
    "        \n"
   ]
  },
  {
   "cell_type": "code",
   "execution_count": null,
   "metadata": {},
   "outputs": [
    {
     "name": "stdout",
     "output_type": "stream",
     "text": [
      "El nuevo numero es: 28 y la suma total hasta ahora es  28\n",
      "El nuevo numero es: 15 y la suma total hasta ahora es  43\n",
      "El nuevo numero es: 32 y la suma total hasta ahora es  75\n",
      "El nuevo numero es: 7 y la suma total hasta ahora es  82\n",
      "El nuevo numero es: 44 y la suma total hasta ahora es  126\n",
      "El nuevo numero es: 35 y la suma total hasta ahora es  161\n"
     ]
    }
   ],
   "source": [
    "#Practica 11: Mediante una lista de numeros [28,15,32,7,44,35,62,73,19] imprimit los numeros\n",
    "#por indivisual, mientras la suma de los valores impresos sea menor de 180\n",
    "\n",
    "\n",
    "numeros = [28,15,32,7,44,35,62,73,19]\n",
    "suma = 0\n",
    "for numero in numeros:\n",
    "    suma+=numero\n",
    "    if suma>= 180: break\n",
    "    print(\"El nuevo numero es:\",numero, \"y la suma total hasta ahora es \", suma)\n",
    "    \n",
    " \n"
   ]
  },
  {
   "cell_type": "code",
   "execution_count": 17,
   "metadata": {},
   "outputs": [
    {
     "name": "stdout",
     "output_type": "stream",
     "text": [
      "frase\n"
     ]
    }
   ],
   "source": [
    "#Practica 12: Mostrar unicamente la cuarta palabra de la variable frase = \"Esta es una frase de prueba para la practica 12\"\n",
    "\n",
    "frase = \"Esta es una frase de prueba para la practica 12\"\n",
    "print(frase.split()[3])\n"
   ]
  },
  {
   "cell_type": "code",
   "execution_count": null,
   "metadata": {},
   "outputs": [
    {
     "name": "stdout",
     "output_type": "stream",
     "text": [
      "El resultado es 4.0\n"
     ]
    }
   ],
   "source": [
    "#Practica 13: Crear una función personalizada, que resta 4 a un numero y lo divido por 2 pero que me devuelva un texto como resultado \"el resultado es x\"\n",
    " \n",
    "def resta4(a,b):\n",
    "    return print(\"El resultado es\",(a-b)/2) \n",
    "\n",
    "resta4(int(input(\"Introduce numero a:\")), int(input(\"Introduce numero b:\")))"
   ]
  },
  {
   "cell_type": "code",
   "execution_count": 31,
   "metadata": {},
   "outputs": [
    {
     "name": "stdout",
     "output_type": "stream",
     "text": [
      "El area del triangulo es de 12.5\n"
     ]
    }
   ],
   "source": [
    "#Practica 14: Crear una función que me devuelva el area de un triangulo (lo devuelva como valor)\n",
    "\n",
    "def area(b, h):\n",
    "    return round((b*h)/2,2)\n",
    "\n",
    "areatriangulo = area(int(input(\"Dime la base:\")), int(input(\"Dime la altura:\")))\n",
    "print(\"El area del triangulo es de\", areatriangulo )"
   ]
  },
  {
   "cell_type": "code",
   "execution_count": 30,
   "metadata": {},
   "outputs": [
    {
     "name": "stdout",
     "output_type": "stream",
     "text": [
      "Error en el numero de mes.\n"
     ]
    }
   ],
   "source": [
    "#Practica 15: Crear una función que me pasandole como parametro un numero, mediante la función input, y que me devuelva el mes en letras correspondiente (cuidado si el numero no esta entre 1 y 12)\n",
    "meses=['Enero','Febrero','Marzo','Abril','Mayo','Junio','Julio','Agosto','Septiembre','Octubre','Noviembre','Diciembre']\n",
    "def mes(numero):\n",
    "    if numero>0 and numero<=12:\n",
    "        print(\"El mes escogido es el\", meses[numero-1])\n",
    "    else:\n",
    "        print(\"Error en el numero de mes.\")\n",
    "\n",
    "mes(int(input(\"Introduce el numero de un mes en números:\")))"
   ]
  },
  {
   "cell_type": "code",
   "execution_count": null,
   "metadata": {},
   "outputs": [
    {
     "name": "stdout",
     "output_type": "stream",
     "text": [
      "El numero a es mayor que b 5.4 > 2.2\n"
     ]
    }
   ],
   "source": [
    "#Practica 16: Crear una función que compare dos numeros (a y b) y me devuelva los 3 posibles resultados en un texto, \"el numero a es mayor que b\", \"el numero b es mayor que a\"\n",
    "def comparar(a,b):\n",
    "    if a>b:\n",
    "        print(\"El numero a es mayor que b\", a, \">\", b)\n",
    "    elif a<b:\n",
    "         print(\"El numero b es mayor que a\", b, \">\", a)\n",
    "    else:\n",
    "        print(\"El numero a y el numero b son iguales\", b, \"=\", a)\n",
    "\n",
    "comparar(float(input(\"Dime un numero:\")),float(input(\"Dime otro numero:\")))"
   ]
  },
  {
   "cell_type": "code",
   "execution_count": 9,
   "metadata": {},
   "outputs": [
    {
     "name": "stdout",
     "output_type": "stream",
     "text": [
      "10\n",
      "12\n",
      "14\n",
      "16\n",
      "18\n",
      "20\n",
      "22\n",
      "24\n",
      "26\n",
      "28\n",
      "30\n",
      "32\n",
      "34\n",
      "36\n",
      "38\n",
      "40\n",
      "42\n",
      "44\n",
      "46\n",
      "48\n"
     ]
    }
   ],
   "source": [
    "#Practica 17: Mediante un bucle While, imprimir el valor de una variable i con un valor inicial de 10, siempre y cuando el valor de i sea <50. La variable se incrementará de 2 en 2.\n",
    "\n",
    "i=10\n",
    "while i<50:\n",
    "    print(i)\n",
    "    i+=2"
   ]
  },
  {
   "cell_type": "code",
   "execution_count": 21,
   "metadata": {},
   "outputs": [
    {
     "name": "stdout",
     "output_type": "stream",
     "text": [
      "2003-04-26 - 2025-02-28\n",
      "Han pasado 7979 dias.\n"
     ]
    }
   ],
   "source": [
    "#Practica 18: Crear una función para que pasandole por separado, el dia, el mes y el año nos devuelva un texto que ponga \"la diferencia de dias entre hoy y la fecha informada yyyy/mm/dd es de X dias\", siempre y cuando la fecha informada sea mas antigua que hoy\n",
    "from datetime import date\n",
    "def diferenciadias(dia, mes, ano):\n",
    "    fecha1 = date(ano, mes, dia)\n",
    "    fecha2 = date.today()\n",
    "    if fecha2<fecha1:\n",
    "        print(\"la fecha aportada debe ser anterior a hoy\")\n",
    "    else:\n",
    "        print(fecha1, \"-\", fecha2)\n",
    "        dias = fecha2 - fecha1\n",
    "        print(\"Han pasado\",(fecha2 - fecha1).days, \"dias.\")\n",
    "\n",
    "dia = int(input(\"Introduce un día del año\"))\n",
    "mes = int(input(\"Introduce un día del año\"))\n",
    "ano = int(input(\"Introduce un día del año\"))\n",
    "diferenciadias(dia, mes, ano)\n"
   ]
  },
  {
   "cell_type": "code",
   "execution_count": 29,
   "metadata": {},
   "outputs": [
    {
     "name": "stdout",
     "output_type": "stream",
     "text": [
      "La fecha es 03/02/84\n"
     ]
    }
   ],
   "source": [
    "#Practica 19:Crear una función con 3 parámetros, a los que le daremos valor mediante inputs y que corresponderán a día, mes y año. La función nos debe devolver un texto con la fecha en formato mm/dd/aa.\n",
    "from datetime import date\n",
    "def fechacorta(dia, mes, ano):\n",
    "    fecha = date(ano, mes, dia)\n",
    "    print(\"La fecha es\",fecha.strftime('%m/%d/%y'))\n",
    "\n",
    "fechacorta(int(input(\"Introduce día:\")), int(input(\"Introduce mes:\")), int(input(\"Introduce año:\")))\n",
    "\n"
   ]
  },
  {
   "cell_type": "code",
   "execution_count": null,
   "metadata": {},
   "outputs": [
    {
     "name": "stdout",
     "output_type": "stream",
     "text": [
      "La semana del año de la fecha aportada es 00\n"
     ]
    }
   ],
   "source": [
    "#Práctica 20: Crear una función para almacenar en una variable que se llamará semana, que después de informarle de una fecha mediante input en el formato dd-mm-aaaa (una sola variable), almacene el valor de la semana de la fecha aportada.\n",
    "\n",
    "\n",
    "\n",
    "from datetime import date\n",
    "def semanaenmes(semana): \n",
    "    semanalista = semana.split('-')\n",
    "    fecha = date(int(semanalista[2]), int(semanalista[1]), int(semanalista[0]))\n",
    "    print(\"La semana del año de la fecha aportada es\", fecha.strftime('%W'))\n",
    "\n",
    "semana = input(\"Introduce una fecha en formato dd-mm-aaaa:\")\n",
    "semanaenmes(semana)\n",
    "\n",
    "#dia, mes, año = fecha.split('-'): si no coinciden los parámetros, dará error. Hay que hacer un control de excepciones."
   ]
  },
  {
   "cell_type": "code",
   "execution_count": 9,
   "metadata": {},
   "outputs": [],
   "source": [
    "#Practica 21: Calcular los segundos transcurridos entre dos ejecuciones de celdas de Júopiter diferentes (ejecutar una celda, esperar unos segundos y al ejecutar la segunda celda, que nos diga cuantos seegundos han transcurridos).\n",
    "\n",
    "from datetime import datetime\n",
    "\n",
    "ahora1= datetime.now()\n"
   ]
  },
  {
   "cell_type": "code",
   "execution_count": 10,
   "metadata": {},
   "outputs": [
    {
     "name": "stdout",
     "output_type": "stream",
     "text": [
      "0:00:04.093187\n"
     ]
    }
   ],
   "source": [
    "ahora2 =datetime.now()\n",
    "\n",
    "print((ahora2-ahora1))"
   ]
  },
  {
   "cell_type": "code",
   "execution_count": null,
   "metadata": {},
   "outputs": [],
   "source": [
    "#Practica 22: Partiendo de 4 listas, en la primera contendra las fechas en formato \n",
    "# mes@dia@año, la segunda dias en numero, la tercera horas en numero, la cuarta minutos en numero.\n",
    "#El objetivo es generar una lista resultante que contenga el incremento de dias, horas y minutos, de cada elemento de la lista, teniendo en cuenta el mismo numero de orden o de indice\n",
    "#Lista 1       Lista 2     Lista 3      Lista 4    ->           Lista 5\n",
    "#05@11@2024          8          20           18        19/05/2024 20:18\n",
    "\n",
    "#Fechas = [\"03@15@2012\", \"07@22@2025\", \"11@09@2030\", \"05@30@2018\", \"09@14@2007\", \"01@03@2021\"]\n",
    "\n",
    "#Días = [23, 47, 35, 12, 50, 29]\n",
    "#Horas = [7, 19, 3, 22, 11, 16]\n",
    "#Minutos = [42, 7, 33, 58, 21, 14]\n",
    "\n",
    "from datetime import datetime, timedelta\n",
    "\n",
    "\n",
    "fechas = [\"03@15@2012\", \"07@22@2025\", \"11@09@2030\", \"05@30@2018\", \"09@14@2007\", \"01@03@2021\"]\n",
    "dias = [23, 47, 35, 12, 50, 29]\n",
    "horas = [7, 19, 3, 22, 11, 16]\n",
    "minutos = [42, 7, 33, 58, 21, 14]\n",
    "#Creamos una lista en blanco:\n",
    "fechas_finales=[]\n",
    "\n",
    "\n",
    "for i in range(6):\n",
    "    fecha = datetime.strptime(fechas[i], \"%m@%d@%Y\")\n",
    "    #Pasamos un string en formato día@mes@año largo a fecha\n",
    "    fechas_finales.append(fecha + timedelta(days=dias[i], hours=horas[i], minutes=minutos[i]))\n",
    "    #Le aumentamos a la fecha creada con el string, x días, x horas y x minutos y lo pasamos a la lista:\n",
    "    print(fechas_finales[i])"
   ]
  },
  {
   "cell_type": "code",
   "execution_count": null,
   "metadata": {},
   "outputs": [],
   "source": [
    "#¿Cómo interpretar una varianza?\n",
    "\n",
    "#La varianza es difícil de interpretar, en su lugar se usa la desviación estándar (o típica), que tiene las mismas unidades que los datos originales.\n",
    "\n",
    "#La desviacion tipica es la raiz cuadrada de la variancia. La desviación típica tiene las mismas unidades que los datos, y nos muestra cómo se distribuyen los datos alrededor del valor medio. En nuestro ejemplo no hay unidades, pero esto se cumple igual: var = (std)^2\n",
    " "
   ]
  },
  {
   "cell_type": "code",
   "execution_count": null,
   "metadata": {},
   "outputs": [
    {
     "name": "stdout",
     "output_type": "stream",
     "text": [
      "0      34\n",
      "1     124\n",
      "2      81\n",
      "3       9\n",
      "4      81\n",
      "5      67\n",
      "6     124\n",
      "7      34\n",
      "8      15\n",
      "9      47\n",
      "10     81\n",
      "11    124\n",
      "12      9\n",
      "13     67\n",
      "14     22\n",
      "dtype: int64\n",
      "0     67\n",
      "1     67\n",
      "2     81\n",
      "3     81\n",
      "4     81\n",
      "5    124\n",
      "6    124\n",
      "7    124\n",
      "dtype: int64\n",
      "\n",
      "\n",
      "La varianza es 2222.5714285714284\n",
      "La desviación tipica es 47.14415582626789\n",
      "El promedio de la serie es 51.5\n"
     ]
    }
   ],
   "source": [
    "#Practica 23: Crearemos una serie de pandas, con los siguientes numeros [34,124,81,9,81,67,124,34,15,47,81,124,9,67,22] a esta serie le llamaremos numeros_VIP, clonaremos esta serie para tener solamente los numeros de la serie que sean mayores de 50, en orden ascendente y reindexado. a esta nueva serie le llamarenos numeros_VIP50, \n",
    "# a esta nueva serie le aplicaremos una función por la cual si el numero esta entre 60-85, le sumaremos 10 y si no esta entre 60-85 le restaremos 5.\n",
    "#Redondeado a 3 decimales \n",
    "# Ver en un texto el promedio de la serie numeros_VIP50 \n",
    "# Ver en un texto la desviación tipica de a serie numeros_VIP50 \n",
    "# Ver en un texto la varianza de la serie numeros_VIP50 \n",
    "# #Normal \n",
    "# Ver la suma acumulada serie numeros_VIP50\n",
    "\n",
    "#Practica 23\n",
    "import pandas as pd\n",
    "#Crear la lista de numeros VIP\n",
    "lista_VIP = [34,124,81,9,81,67,124,34,15,47,81,124,9,67,22]\n",
    "numeros_VIP = pd.Series(lista_VIP)\n",
    "print(numeros_VIP)\n",
    "print()     #Una linea en blanco\n",
    "#Clonar la serie siempre >50 y ordenado + reindexado\n",
    "numeros_VIP50 = numeros_VIP[numeros_VIP>50].sort_values(ascending=True, ignore_index=True)\n",
    "print(numeros_VIP50)\n",
    "#Crear la función\n",
    "def modificar_numero(x):\n",
    "    if x>=60 and x<=85:   #Dentro del tramo 60-85\n",
    "        return x+10\n",
    "    else:\n",
    "        return x-5\n",
    "#Reasignarle a la serie\n",
    "numeros_VIP50 = numeros_VIP50.apply(modificar_numero)\n",
    "print()\n",
    "print(numeros_VIP50)\n",
    "#Ver los enunciados\n",
    "print(\"El promedio es\",round(numeros_VIP50.mean(),3))\n",
    "print(\"La desviación tipica es\",round(numeros_VIP50.std(),3))\n",
    "print(\"El promedio es\",round(numeros_VIP50.var(),3))\n",
    "#El acumulado\n",
    "print(\"El promedio es\",numeros_VIP50.cumsum())\n",
    " "
   ]
  }
 ],
 "metadata": {
  "kernelspec": {
   "display_name": "Python 3",
   "language": "python",
   "name": "python3"
  },
  "language_info": {
   "codemirror_mode": {
    "name": "ipython",
    "version": 3
   },
   "file_extension": ".py",
   "mimetype": "text/x-python",
   "name": "python",
   "nbconvert_exporter": "python",
   "pygments_lexer": "ipython3",
   "version": "3.12.3"
  }
 },
 "nbformat": 4,
 "nbformat_minor": 2
}
