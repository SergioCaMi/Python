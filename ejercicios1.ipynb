{
 "cells": [
  {
   "cell_type": "code",
   "execution_count": 13,
   "metadata": {},
   "outputs": [
    {
     "name": "stdout",
     "output_type": "stream",
     "text": [
      "['Enero', 'Febrero', 'Marzo', 'Mayo', 'Junio']\n",
      "['Enero', 'Febrero', 'Marzo', 'Mayo', 'Junio', 'Julio', 'Agosto']\n",
      "['Enero', 'Febrero', 'Marzo', 'Abril', 'Mayo', 'Junio', 'Julio', 'Agosto']\n",
      "['Enero', 'Febrero', 'Marzo', 'Abril', 'Mayo', 'Junio', 'Julio', 'Agosto', 'Marzo', 'Junio']\n",
      "['Enero', 'Febrero', 'Marzo', 'Abril', 'Mayo', 'Junio', 'Julio', 'Agosto', 'Junio']\n"
     ]
    }
   ],
   "source": [
    "# Practica 1: Crear una lista con los meses de enero a junio (excepto abril). Luego:\n",
    "#    - Añadir julio y agosto.\n",
    "#    - Insertar abril en su lugar correcto.\n",
    "#    - Añadir marzo y junio al final.\n",
    "#    - Eliminar los elementos desordenados.\n",
    "#        - Respuesta:\n",
    "            \n",
    "            \n",
    "listaMeses = [\"Enero\", \"Febrero\", \"Marzo\", \"Mayo\", \"Junio\"]\n",
    "print(listaMeses)\n",
    "listaMeses.append(\"Julio\")\n",
    "listaMeses.append(\"Agosto\")\n",
    "print(listaMeses)\n",
    "listaMeses.insert(3, \"Abril\")\n",
    "print(listaMeses)\n",
    "listaMeses.append(\"Marzo\")\n",
    "listaMeses.append(\"Junio\")\n",
    "print(listaMeses)\n",
    "del listaMeses[8:9]\n",
    "print(listaMeses)\n",
    "   "
   ]
  },
  {
   "cell_type": "code",
   "execution_count": null,
   "metadata": {},
   "outputs": [],
   "source": [
    "# Practica 2: Escribir un programa que pida un número y determine si es mayor o menor que 20\n",
    "i=int(input('Pon un número:'))\n",
    "print(i)\n",
    "if i>20:\n",
    "    print(i, \"es mayor que 20\")\n",
    "else:\n",
    "    print(i, \"es menor o igual que 20\")"
   ]
  },
  {
   "cell_type": "code",
   "execution_count": null,
   "metadata": {},
   "outputs": [
    {
     "name": "stdout",
     "output_type": "stream",
     "text": [
      "2.5\n",
      "2.5 es menor o igual que 20\n"
     ]
    }
   ],
   "source": [
    "#Practica 2 Bis: lo mismo, pero con números decimales.\n",
    "\n",
    "i=input('Pon un número:')\n",
    "print(float(i))\n",
    "if float(i)>20:\n",
    "    print(float(i), \"es mayor que 20\")\n",
    "else:\n",
    "    print(float(i), \"es menor o igual que 20\")"
   ]
  },
  {
   "cell_type": "code",
   "execution_count": null,
   "metadata": {},
   "outputs": [
    {
     "name": "stdout",
     "output_type": "stream",
     "text": [
      "El día de la semana es Lunes\n",
      "El día de la semana es Martes\n",
      "El día de la semana es Miércoles\n",
      "El día de la semana es Jueves\n",
      "El día de la semana es Viernes\n",
      "El día de la semana es Sábado\n",
      "El día de la semana es Domingo\n"
     ]
    }
   ],
   "source": [
    "#Practica 3:Mediante un bucle que recorra los dias de la semana que estan en la lista semana\n",
    "#mostrar un texto en cada iteración que ponga \"El dia de la semana es XXX\"\n",
    "dias =['Lunes', 'Martes', 'Miércoles', 'Jueves', 'Viernes', 'Sábado', 'Domingo']\n",
    "for dia in dias:\n",
    "    print('El día de la semana es', dia)"
   ]
  },
  {
   "cell_type": "code",
   "execution_count": null,
   "metadata": {},
   "outputs": [
    {
     "name": "stdout",
     "output_type": "stream",
     "text": [
      "El número es 15\n",
      "El número es 37\n",
      "El número es 42\n",
      "El número es 18\n",
      "El número es 26\n",
      "El número es 64\n",
      "El número es 75\n"
     ]
    }
   ],
   "source": [
    "#Practica 4: Mediante un bucle que recorra y muestre con un texto la siguiente lista de numeros [15,37,42,18,26,64,75], \"el numero es X\"\n",
    "numeros=[15,37,42,18,26,64,75]\n",
    "for numero in numeros:\n",
    "    print('El número es', numero)"
   ]
  },
  {
   "cell_type": "code",
   "execution_count": null,
   "metadata": {},
   "outputs": [
    {
     "name": "stdout",
     "output_type": "stream",
     "text": [
      "El número es 6\n",
      "El número es 7\n",
      "El número es 8\n",
      "El número es 9\n",
      "El número es 10\n",
      "El número es 11\n",
      "El número es 12\n",
      "El número es 13\n",
      "El número es 14\n",
      "El número es 15\n",
      "El número es 16\n",
      "El número es 17\n",
      "El número es 18\n",
      "El número es 19\n",
      "El número es 20\n",
      "El número es 21\n",
      "El número es 22\n",
      "El número es 23\n"
     ]
    }
   ],
   "source": [
    "#Practica 5: Mediante un bucle que recorra y muestre con un texto una lista generada con range, para ver desde el numero 6 hasta el 23, con el texto \"el numero es X\"\n",
    "numeros=range(6,24)\n",
    "for numero in numeros:\n",
    "    print('El número es', numero)"
   ]
  },
  {
   "cell_type": "code",
   "execution_count": null,
   "metadata": {},
   "outputs": [
    {
     "name": "stdout",
     "output_type": "stream",
     "text": [
      "El número es 54\n",
      "El número es 52\n",
      "El número es 50\n",
      "El número es 48\n",
      "El número es 46\n",
      "El número es 44\n",
      "El número es 42\n",
      "El número es 40\n",
      "El número es 38\n",
      "El número es 36\n",
      "El número es 34\n",
      "El número es 32\n",
      "El número es 30\n",
      "El número es 28\n",
      "El número es 26\n",
      "El número es 24\n",
      "El número es 22\n",
      "El número es 20\n",
      "El número es 18\n",
      "El número es 16\n",
      "El número es 14\n",
      "El número es 12\n"
     ]
    }
   ],
   "source": [
    "#Practica 6: Mediante un bucle que recorra y muestre con un texto una lista generada con range, para ver desde el numero 54 hasta el 12, de dos en dos con el texto \"el numero es X\"\n",
    "numeros=range(54,11, -2)\n",
    "for i in numeros:\n",
    "    print('El número es', i)"
   ]
  },
  {
   "cell_type": "code",
   "execution_count": null,
   "metadata": {},
   "outputs": [
    {
     "name": "stdout",
     "output_type": "stream",
     "text": [
      "El  1  mes del año es Enero\n",
      "El  2  mes del año es Febrero\n",
      "El  3  mes del año es Marzo\n",
      "El  4  mes del año es Abril\n",
      "El  5  mes del año es Mayo\n",
      "El  6  mes del año es Junio\n",
      "El  7  mes del año es Julio\n",
      "El  8  mes del año es Agosto\n",
      "El  9  mes del año es Septiembre\n",
      "El  10  mes del año es Octubre\n",
      "El  11  mes del año es Noviembre\n",
      "El  12  mes del año es Diciembre\n"
     ]
    }
   ],
   "source": [
    "#Practica 7: Mediante un bucle que recorra y muestre la lista de los meses del año y mostrar un texto que ponga, \"El 1 mes del año es enero\", \"el 2 mes del año es febrero\"\n",
    "meses=['Enero','Febrero','Marzo','Abril','Mayo','Junio','Julio','Agosto','Septiembre','Octubre','Noviembre','Diciembre']\n",
    "i=1\n",
    "for x in meses:\n",
    "    print('El ',i ,' mes del año es', x)\n",
    "    i+=1"
   ]
  },
  {
   "cell_type": "code",
   "execution_count": null,
   "metadata": {},
   "outputs": [
    {
     "name": "stdout",
     "output_type": "stream",
     "text": [
      "El  primer  mes del año es Enero\n",
      "El  segundo  mes del año es Febrero\n",
      "El  tercero  mes del año es Marzo\n",
      "El  cuarto  mes del año es Abril\n",
      "El  quinto  mes del año es Mayo\n",
      "El  sexto  mes del año es Junio\n",
      "El  septimo  mes del año es Julio\n",
      "El  octavo  mes del año es Agosto\n",
      "El  noveno  mes del año es Septiembre\n",
      "El  décimo  mes del año es Octubre\n",
      "El  undécimo  mes del año es Noviembre\n",
      "El  decimosegundo  mes del año es Diciembre\n"
     ]
    }
   ],
   "source": [
    "#Practica 8: Mediante un bucle que recorra y muestre la lista de los meses del año y mostrar un texto que ponga, \"El primer mes del año es enero\", \"el segundo mes del año es febrero\"\n",
    "meses=['Enero','Febrero','Marzo','Abril','Mayo','Junio','Julio','Agosto','Septiembre','Octubre','Noviembre','Diciembre']\n",
    "orden=['primer','segundo','tercero','cuarto','quinto','sexto','septimo','octavo','noveno','décimo','undécimo','decimosegundo']\n",
    "i=0\n",
    "for x in meses:\n",
    "    print('El ',orden[i] ,' mes del año es', x)\n",
    "    i+=1"
   ]
  },
  {
   "cell_type": "code",
   "execution_count": null,
   "metadata": {},
   "outputs": [
    {
     "name": "stdout",
     "output_type": "stream",
     "text": [
      "El numero 5 está en el rango 0-30\n",
      "El numero -8 está fuera de rango\n",
      "El numero 142 está en el rango 121-150\n",
      "El numero 75 está en el rango 61-90\n",
      "El numero 62 está en el rango 61-90\n",
      "El numero 37 está en el rango 31-60\n",
      "El numero -20 está fuera de rango\n",
      "El numero 41 está en el rango 31-60\n"
     ]
    }
   ],
   "source": [
    "#Practica 9: Con un bucle for recorrer la siguiente lista [5, -8, 142, 75, 62, 37, -20, 41] y clasificar los números por tramos de 30 en 30, empezando por el 0, y debe indicar un texto donde me diga \"el número X está comprendido entre 0 y 30. Si no está en ningún tramo, debe decirlo.\n",
    "\n",
    "numeros = [5, -8, 142, 75, 62, 37, -20, 41] \n",
    "for numero in numeros:\n",
    "    if numero >=0 and numero <= 30:\n",
    "        print(\"El numero\", numero, \"está en el rango 0-30\")\n",
    "    elif numero >30 and numero <= 60:\n",
    "        print(\"El numero\", numero, \"está en el rango 31-60\")\n",
    "    elif numero >60 and numero <= 90:\n",
    "        print(\"El numero\", numero, \"está en el rango 61-90\")\n",
    "    elif numero >90 and numero <= 120:\n",
    "        print(\"El numero\", numero, \"está en el rango 91-120\")\n",
    "    elif numero >120 and numero <= 150:\n",
    "        print(\"El numero\", numero, \"está en el rango 121-150\")\n",
    "    else:\n",
    "        print(\"El numero\", numero, \"está fuera de rango\")\n"
   ]
  },
  {
   "cell_type": "code",
   "execution_count": null,
   "metadata": {},
   "outputs": [
    {
     "name": "stdout",
     "output_type": "stream",
     "text": [
      "S\n",
      "U\n",
      "P\n",
      "E\n",
      "R\n",
      "C\n",
      "L\n",
      "I\n",
      "F\n",
      "R\n",
      "G\n",
      "I\n",
      "L\n",
      "I\n",
      "S\n",
      "T\n",
      "I\n",
      "C\n",
      "O\n",
      "E\n",
      "S\n",
      "P\n",
      "I\n",
      "L\n",
      "I\n",
      "D\n",
      "O\n"
     ]
    }
   ],
   "source": [
    "#Practica 10: Imprimir por separado y con un bucle, las letras de la palabra Supercalifragilisticoespialidoso, en mayusculas menos la letra a\n",
    "\n",
    "palabra = \"Supercalifragilisticoespialido\"\n",
    "for letra in palabra:\n",
    "    if letra != 'a':\n",
    "        print(letra.upper())\n",
    "    \n",
    "        \n"
   ]
  },
  {
   "cell_type": "code",
   "execution_count": null,
   "metadata": {},
   "outputs": [
    {
     "name": "stdout",
     "output_type": "stream",
     "text": [
      "El nuevo numero es: 28 y la suma total hasta ahora es  28\n",
      "El nuevo numero es: 15 y la suma total hasta ahora es  43\n",
      "El nuevo numero es: 32 y la suma total hasta ahora es  75\n",
      "El nuevo numero es: 7 y la suma total hasta ahora es  82\n",
      "El nuevo numero es: 44 y la suma total hasta ahora es  126\n",
      "El nuevo numero es: 35 y la suma total hasta ahora es  161\n"
     ]
    }
   ],
   "source": [
    "#Practica 11: Mediante una lista de numeros [28,15,32,7,44,35,62,73,19] imprimit los numeros\n",
    "#por indivisual, mientras la suma de los valores impresos sea menor de 180\n",
    "\n",
    "\n",
    "numeros = [28,15,32,7,44,35,62,73,19]\n",
    "suma = 0\n",
    "for numero in numeros:\n",
    "    suma+=numero\n",
    "    if suma>= 180: break\n",
    "    print(\"El nuevo numero es:\",numero, \"y la suma total hasta ahora es \", suma)\n",
    "    \n",
    " \n"
   ]
  },
  {
   "cell_type": "code",
   "execution_count": 17,
   "metadata": {},
   "outputs": [
    {
     "name": "stdout",
     "output_type": "stream",
     "text": [
      "frase\n"
     ]
    }
   ],
   "source": [
    "#Practica 12: Mostrar unicamente la cuarta palabra de la variable frase = \"Esta es una frase de prueba para la practica 12\"\n",
    "\n",
    "frase = \"Esta es una frase de prueba para la practica 12\"\n",
    "print(frase.split()[3])\n"
   ]
  },
  {
   "cell_type": "code",
   "execution_count": null,
   "metadata": {},
   "outputs": [
    {
     "name": "stdout",
     "output_type": "stream",
     "text": [
      "El resultado es 4.0\n"
     ]
    }
   ],
   "source": [
    "#Practica 13: Crear una función personalizada, que resta 4 a un numero y lo divido por 2 pero que me devuelva un texto como resultado \"el resultado es x\"\n",
    " \n",
    "def resta4(a,b):\n",
    "    return print(\"El resultado es\",(a-b)/2) \n",
    "\n",
    "resta4(int(input(\"Introduce numero a:\")), int(input(\"Introduce numero b:\")))"
   ]
  },
  {
   "cell_type": "code",
   "execution_count": 31,
   "metadata": {},
   "outputs": [
    {
     "name": "stdout",
     "output_type": "stream",
     "text": [
      "El area del triangulo es de 12.5\n"
     ]
    }
   ],
   "source": [
    "#Practica 14: Crear una función que me devuelva el area de un triangulo (lo devuelva como valor)\n",
    "\n",
    "def area(b, h):\n",
    "    return round((b*h)/2,2)\n",
    "\n",
    "areatriangulo = area(int(input(\"Dime la base:\")), int(input(\"Dime la altura:\")))\n",
    "print(\"El area del triangulo es de\", areatriangulo )"
   ]
  },
  {
   "cell_type": "code",
   "execution_count": 30,
   "metadata": {},
   "outputs": [
    {
     "name": "stdout",
     "output_type": "stream",
     "text": [
      "Error en el numero de mes.\n"
     ]
    }
   ],
   "source": [
    "#Practica 15: Crear una función que me pasandole como parametro un numero, mediante la función input, y que me devuelva el mes en letras correspondiente (cuidado si el numero no esta entre 1 y 12)\n",
    "meses=['Enero','Febrero','Marzo','Abril','Mayo','Junio','Julio','Agosto','Septiembre','Octubre','Noviembre','Diciembre']\n",
    "def mes(numero):\n",
    "    if numero>0 and numero<=12:\n",
    "        print(\"El mes escogido es el\", meses[numero-1])\n",
    "    else:\n",
    "        print(\"Error en el numero de mes.\")\n",
    "\n",
    "mes(int(input(\"Introduce el numero de un mes en números:\")))"
   ]
  },
  {
   "cell_type": "code",
   "execution_count": null,
   "metadata": {},
   "outputs": [
    {
     "name": "stdout",
     "output_type": "stream",
     "text": [
      "El numero a es mayor que b 5.4 > 2.2\n"
     ]
    }
   ],
   "source": [
    "#Practica 16: Crear una función que compare dos numeros (a y b) y me devuelva los 3 posibles resultados en un texto, \"el numero a es mayor que b\", \"el numero b es mayor que a\"\n",
    "def comparar(a,b):\n",
    "    if a>b:\n",
    "        print(\"El numero a es mayor que b\", a, \">\", b)\n",
    "    elif a<b:\n",
    "         print(\"El numero b es mayor que a\", b, \">\", a)\n",
    "    else:\n",
    "        print(\"El numero a y el numero b son iguales\", b, \"=\", a)\n",
    "\n",
    "comparar(float(input(\"Dime un numero:\")),float(input(\"Dime otro numero:\")))"
   ]
  },
  {
   "cell_type": "code",
   "execution_count": 9,
   "metadata": {},
   "outputs": [
    {
     "name": "stdout",
     "output_type": "stream",
     "text": [
      "10\n",
      "12\n",
      "14\n",
      "16\n",
      "18\n",
      "20\n",
      "22\n",
      "24\n",
      "26\n",
      "28\n",
      "30\n",
      "32\n",
      "34\n",
      "36\n",
      "38\n",
      "40\n",
      "42\n",
      "44\n",
      "46\n",
      "48\n"
     ]
    }
   ],
   "source": [
    "#Practica 17: Mediante un bucle While, imprimir el valor de una variable i con un valor inicial de 10, siempre y cuando el valor de i sea <50. La variable se incrementará de 2 en 2.\n",
    "\n",
    "i=10\n",
    "while i<50:\n",
    "    print(i)\n",
    "    i+=2"
   ]
  },
  {
   "cell_type": "code",
   "execution_count": 21,
   "metadata": {},
   "outputs": [
    {
     "name": "stdout",
     "output_type": "stream",
     "text": [
      "2003-04-26 - 2025-02-28\n",
      "Han pasado 7979 dias.\n"
     ]
    }
   ],
   "source": [
    "#Practica 18: Crear una función para que pasandole por separado, el dia, el mes y el año nos devuelva un texto que ponga \"la diferencia de dias entre hoy y la fecha informada yyyy/mm/dd es de X dias\", siempre y cuando la fecha informada sea mas antigua que hoy\n",
    "from datetime import date\n",
    "def diferenciadias(dia, mes, ano):\n",
    "    fecha1 = date(ano, mes, dia)\n",
    "    fecha2 = date.today()\n",
    "    if fecha2<fecha1:\n",
    "        print(\"la fecha aportada debe ser anterior a hoy\")\n",
    "    else:\n",
    "        print(fecha1, \"-\", fecha2)\n",
    "        dias = fecha2 - fecha1\n",
    "        print(\"Han pasado\",(fecha2 - fecha1).days, \"dias.\")\n",
    "\n",
    "dia = int(input(\"Introduce un día del año\"))\n",
    "mes = int(input(\"Introduce un día del año\"))\n",
    "ano = int(input(\"Introduce un día del año\"))\n",
    "diferenciadias(dia, mes, ano)\n"
   ]
  },
  {
   "cell_type": "code",
   "execution_count": 29,
   "metadata": {},
   "outputs": [
    {
     "name": "stdout",
     "output_type": "stream",
     "text": [
      "La fecha es 03/02/84\n"
     ]
    }
   ],
   "source": [
    "#Practica 19:Crear una función con 3 parámetros, a los que le daremos valor mediante inputs y que corresponderán a día, mes y año. La función nos debe devolver un texto con la fecha en formato mm/dd/aa.\n",
    "from datetime import date\n",
    "def fechacorta(dia, mes, ano):\n",
    "    fecha = date(ano, mes, dia)\n",
    "    print(\"La fecha es\",fecha.strftime('%m/%d/%y'))\n",
    "\n",
    "fechacorta(int(input(\"Introduce día:\")), int(input(\"Introduce mes:\")), int(input(\"Introduce año:\")))\n",
    "\n"
   ]
  },
  {
   "cell_type": "code",
   "execution_count": null,
   "metadata": {},
   "outputs": [
    {
     "name": "stdout",
     "output_type": "stream",
     "text": [
      "La semana del año de la fecha aportada es 00\n"
     ]
    }
   ],
   "source": [
    "#Práctica 20: Crear una función para almacenar en una variable que se llamará semana, que después de informarle de una fecha mediante input en el formato dd-mm-aaaa (una sola variable), almacene el valor de la semana de la fecha aportada.\n",
    "\n",
    "\n",
    "\n",
    "from datetime import date\n",
    "def semanaenmes(semana): \n",
    "    semanalista = semana.split('-')\n",
    "    fecha = date(int(semanalista[2]), int(semanalista[1]), int(semanalista[0]))\n",
    "    print(\"La semana del año de la fecha aportada es\", fecha.strftime('%W'))\n",
    "\n",
    "semana = input(\"Introduce una fecha en formato dd-mm-aaaa:\")\n",
    "semanaenmes(semana)\n",
    "\n",
    "#dia, mes, año = fecha.split('-'): si no coinciden los parámetros, dará error. Hay que hacer un control de excepciones."
   ]
  },
  {
   "cell_type": "code",
   "execution_count": 1,
   "metadata": {},
   "outputs": [],
   "source": [
    "#Practica 21: Calcular los segundos transcurridos entre dos ejecuciones de celdas de Júopiter diferentes (ejecutar una celda, esperar unos segundos y al ejecutar la segunda celda, que nos diga cuantos seegundos han transcurridos).\n",
    "\n",
    "from datetime import datetime\n",
    "\n",
    "ahora1= datetime.now()\n"
   ]
  },
  {
   "cell_type": "code",
   "execution_count": 10,
   "metadata": {},
   "outputs": [
    {
     "name": "stdout",
     "output_type": "stream",
     "text": [
      "0:00:04.093187\n"
     ]
    }
   ],
   "source": [
    "ahora2 =datetime.now()\n",
    "\n",
    "print((ahora2-ahora1))"
   ]
  },
  {
   "cell_type": "code",
   "execution_count": null,
   "metadata": {},
   "outputs": [],
   "source": [
    "#Practica 22: Partiendo de 4 listas, en la primera contendra las fechas en formato \n",
    "# mes@dia@año, la segunda dias en numero, la tercera horas en numero, la cuarta minutos en numero.\n",
    "#El objetivo es generar una lista resultante que contenga el incremento de dias, horas y minutos, de cada elemento de la lista, teniendo en cuenta el mismo numero de orden o de indice\n",
    "#Lista 1       Lista 2     Lista 3      Lista 4    ->           Lista 5\n",
    "#05@11@2024          8          20           18        19/05/2024 20:18\n",
    "\n",
    "#Fechas = [\"03@15@2012\", \"07@22@2025\", \"11@09@2030\", \"05@30@2018\", \"09@14@2007\", \"01@03@2021\"]\n",
    "\n",
    "#Días = [23, 47, 35, 12, 50, 29]\n",
    "#Horas = [7, 19, 3, 22, 11, 16]\n",
    "#Minutos = [42, 7, 33, 58, 21, 14]\n",
    "\n",
    "from datetime import datetime, timedelta\n",
    "\n",
    "\n",
    "fechas = [\"03@15@2012\", \"07@22@2025\", \"11@09@2030\", \"05@30@2018\", \"09@14@2007\", \"01@03@2021\"]\n",
    "dias = [23, 47, 35, 12, 50, 29]\n",
    "horas = [7, 19, 3, 22, 11, 16]\n",
    "minutos = [42, 7, 33, 58, 21, 14]\n",
    "#Creamos una lista en blanco:\n",
    "fechas_finales=[]\n",
    "\n",
    "\n",
    "for i in range(6):\n",
    "    fecha = datetime.strptime(fechas[i], \"%m@%d@%Y\")\n",
    "    #Pasamos un string en formato día@mes@año largo a fecha\n",
    "    fechas_finales.append(fecha + timedelta(days=dias[i], hours=horas[i], minutes=minutos[i]))\n",
    "    #Le aumentamos a la fecha creada con el string, x días, x horas y x minutos y lo pasamos a la lista:\n",
    "    print(fechas_finales[i])"
   ]
  },
  {
   "cell_type": "code",
   "execution_count": null,
   "metadata": {},
   "outputs": [],
   "source": [
    "# ------------------------------------- Series -------------------------------------"
   ]
  },
  {
   "cell_type": "code",
   "execution_count": null,
   "metadata": {},
   "outputs": [],
   "source": [
    "#¿Cómo interpretar una varianza?\n",
    "\n",
    "#La varianza es difícil de interpretar, en su lugar se usa la desviación estándar (o típica), que tiene las mismas unidades que los datos originales.\n",
    "\n",
    "#La desviacion tipica es la raiz cuadrada de la variancia. La desviación típica tiene las mismas unidades que los datos, y nos muestra cómo se distribuyen los datos alrededor del valor medio. En nuestro ejemplo no hay unidades, pero esto se cumple igual: var = (std)^2\n",
    " "
   ]
  },
  {
   "cell_type": "code",
   "execution_count": null,
   "metadata": {},
   "outputs": [
    {
     "name": "stdout",
     "output_type": "stream",
     "text": [
      "0      34\n",
      "1     124\n",
      "2      81\n",
      "3       9\n",
      "4      81\n",
      "5      67\n",
      "6     124\n",
      "7      34\n",
      "8      15\n",
      "9      47\n",
      "10     81\n",
      "11    124\n",
      "12      9\n",
      "13     67\n",
      "14     22\n",
      "dtype: int64\n",
      "\n",
      "0     67\n",
      "1     67\n",
      "2     81\n",
      "3     81\n",
      "4     81\n",
      "5    124\n",
      "6    124\n",
      "7    124\n",
      "dtype: int64\n",
      "0     77\n",
      "1     77\n",
      "2     91\n",
      "3     91\n",
      "4     91\n",
      "5    119\n",
      "6    119\n",
      "7    119\n",
      "dtype: int64\n",
      "El promedio es 98.0\n",
      "La desviación tipica es 18.33\n",
      "El promedio es 336.0\n",
      "El promedio essssssssssssssssssssssssssss 0     77\n",
      "1    154\n",
      "2    245\n",
      "3    336\n",
      "4    427\n",
      "5    546\n",
      "6    665\n",
      "7    784\n",
      "dtype: int64\n"
     ]
    }
   ],
   "source": [
    "#Practica 23: Crearemos una serie de pandas, con los siguientes numeros [34,124,81,9,81,67,124,34,15,47,81,124,9,67,22] a esta serie le llamaremos numeros_VIP, clonaremos esta serie para tener solamente los numeros de la serie que sean mayores de 50, en orden ascendente y reindexado. a esta nueva serie le llamarenos numeros_VIP50, \n",
    "# a esta nueva serie le aplicaremos una función por la cual si el numero esta entre 60-85, le sumaremos 10 y si no esta entre 60-85 le restaremos 5.\n",
    "#Redondeado a 3 decimales \n",
    "# Ver en un texto el promedio de la serie numeros_VIP50 \n",
    "# Ver en un texto la desviación tipica de a serie numeros_VIP50 \n",
    "# Ver en un texto la varianza de la serie numeros_VIP50 \n",
    "# #Normal \n",
    "# Ver la suma acumulada serie numeros_VIP50\n",
    "\n",
    "#Practica 23\n",
    "import pandas as pd\n",
    "#Crear la lista de numeros VIP\n",
    "lista_VIP = [34,124,81,9,81,67,124,34,15,47,81,124,9,67,22]\n",
    "numeros_VIP = pd.Series(lista_VIP)\n",
    "print(numeros_VIP)\n",
    "print()     #Una linea en blanco\n",
    "#Clonar la serie siempre >50 y ordenado + reindexado\n",
    "numeros_VIP50 = numeros_VIP[numeros_VIP>50].sort_values(ascending=True, ignore_index=True)\n",
    "print(numeros_VIP50)\n",
    "#Crear la función\n",
    "def modificar_numero(x):\n",
    "    if x>=60 and x<=85:   #Dentro del tramo 60-85\n",
    "        return x+10\n",
    "    else:\n",
    "        return x-5\n",
    "#Reasignarle a la serie\n",
    "numeros_VIP50 = numeros_VIP50.apply(modificar_numero)\n",
    "\n",
    "print(numeros_VIP50)\n",
    "#Ver los enunciados\n",
    "print(\"El promedio es\",round(numeros_VIP50.mean(),3))\n",
    "print(\"La desviación tipica es\",round(numeros_VIP50.std(),3))\n",
    "print(\"El promedio es\",round(numeros_VIP50.var(),3))\n",
    "#El acumulado\n",
    "print(\"El promedio es\",numeros_VIP50.cumsum())\n",
    " "
   ]
  },
  {
   "cell_type": "code",
   "execution_count": 25,
   "metadata": {},
   "outputs": [
    {
     "name": "stdout",
     "output_type": "stream",
     "text": [
      "[67, 67, 81, 81, 81, 124, 124, 124]\n",
      "[77, 77, 91, 91, 91, 119, 119, 119]\n",
      "El promedio es 98.0\n",
      "La desviación tipica es 18.33\n",
      "El promedio es 336.0\n",
      "El acumulado es 0     77\n",
      "1    154\n",
      "2    245\n",
      "3    336\n",
      "4    427\n",
      "5    546\n",
      "6    665\n",
      "7    784\n",
      "dtype: int64\n"
     ]
    }
   ],
   "source": [
    "#Practica 23: Crearemos una serie de pandas, con los siguientes numeros [34,124,81,9,81,67,124,34,15,47,81,124,9,67,22] a esta serie le llamaremos numeros_VIP, clonaremos esta serie para tener solamente los numeros de la serie que sean mayores de 50, en orden ascendente y reindexado. a esta nueva serie le llamarenos numeros_VIP50, \n",
    "# a esta nueva serie le aplicaremos una función por la cual si el numero esta entre 60-85, le sumaremos 10 y si no esta entre 60-85 le restaremos 5.\n",
    "#Redondeado a 3 decimales \n",
    "# Ver en un texto el promedio de la serie numeros_VIP50 \n",
    "# Ver en un texto la desviación tipica de a serie numeros_VIP50 \n",
    "# Ver en un texto la varianza de la serie numeros_VIP50 \n",
    "# #Normal \n",
    "# Ver la suma acumulada serie numeros_VIP50\n",
    "\n",
    "import pandas as pd\n",
    "numeros = [34,124,81,9,81,67,124,34,15,47,81,124,9,67,22]\n",
    "numeros_VIP = pd.Series(numeros)\n",
    "filtro = numeros_VIP>50\n",
    "numeros_VIP50 = numeros_VIP[filtro].sort_values(ascending=True, ignore_index=True)\n",
    "print(list(numeros_VIP50))\n",
    "\n",
    "\n",
    "def filtracion(x):\n",
    "    if x>65 and x<85:\n",
    "        return x+10\n",
    "    else:\n",
    "        return x-5\n",
    "\n",
    "numeros_VIP50=numeros_VIP50.apply(filtracion)\n",
    "print(list(numeros_VIP50))\n",
    "\n",
    "print(\"El promedio es\",round(numeros_VIP50.mean(),3))\n",
    "print(\"La desviación tipica es\",round(numeros_VIP50.std(),3))\n",
    "print(\"El promedio es\",round(numeros_VIP50.var(),3))\n",
    "print(\"El acumulado es\",numeros_VIP50.cumsum())\n",
    "\n"
   ]
  },
  {
   "cell_type": "code",
   "execution_count": null,
   "metadata": {},
   "outputs": [],
   "source": [
    "# ------------------------------------- DataFrames -------------------------------------"
   ]
  },
  {
   "cell_type": "code",
   "execution_count": 2,
   "metadata": {},
   "outputs": [
    {
     "data": {
      "text/html": [
       "<div>\n",
       "<style scoped>\n",
       "    .dataframe tbody tr th:only-of-type {\n",
       "        vertical-align: middle;\n",
       "    }\n",
       "\n",
       "    .dataframe tbody tr th {\n",
       "        vertical-align: top;\n",
       "    }\n",
       "\n",
       "    .dataframe thead th {\n",
       "        text-align: right;\n",
       "    }\n",
       "</style>\n",
       "<table border=\"1\" class=\"dataframe\">\n",
       "  <thead>\n",
       "    <tr style=\"text-align: right;\">\n",
       "      <th></th>\n",
       "      <th>Cliente</th>\n",
       "      <th>Precio Unidad</th>\n",
       "      <th>Cantidad</th>\n",
       "      <th>Zona</th>\n",
       "      <th>Cantidad2</th>\n",
       "      <th>Cantidad3</th>\n",
       "      <th>Cantidad4</th>\n",
       "      <th>dif_cantidad</th>\n",
       "    </tr>\n",
       "  </thead>\n",
       "  <tbody>\n",
       "    <tr>\n",
       "      <th>0</th>\n",
       "      <td>Comercial Pérez S.A</td>\n",
       "      <td>1.74</td>\n",
       "      <td>29</td>\n",
       "      <td>Zona Centro</td>\n",
       "      <td>31</td>\n",
       "      <td>39</td>\n",
       "      <td>60</td>\n",
       "      <td>35</td>\n",
       "    </tr>\n",
       "    <tr>\n",
       "      <th>1</th>\n",
       "      <td>Distribuciones López</td>\n",
       "      <td>2.68</td>\n",
       "      <td>37</td>\n",
       "      <td>Zona Centro</td>\n",
       "      <td>39</td>\n",
       "      <td>47</td>\n",
       "      <td>76</td>\n",
       "      <td>27</td>\n",
       "    </tr>\n",
       "    <tr>\n",
       "      <th>2</th>\n",
       "      <td>Almacenes Rodríguez</td>\n",
       "      <td>1.65</td>\n",
       "      <td>64</td>\n",
       "      <td>Zona Centro</td>\n",
       "      <td>66</td>\n",
       "      <td>74</td>\n",
       "      <td>130</td>\n",
       "      <td>0</td>\n",
       "    </tr>\n",
       "    <tr>\n",
       "      <th>3</th>\n",
       "      <td>Importadora García</td>\n",
       "      <td>2.23</td>\n",
       "      <td>35</td>\n",
       "      <td>Zona Centro</td>\n",
       "      <td>37</td>\n",
       "      <td>45</td>\n",
       "      <td>72</td>\n",
       "      <td>29</td>\n",
       "    </tr>\n",
       "    <tr>\n",
       "      <th>4</th>\n",
       "      <td>Mercantil Fernández</td>\n",
       "      <td>1.64</td>\n",
       "      <td>19</td>\n",
       "      <td>Zona Centro</td>\n",
       "      <td>16</td>\n",
       "      <td>29</td>\n",
       "      <td>35</td>\n",
       "      <td>45</td>\n",
       "    </tr>\n",
       "    <tr>\n",
       "      <th>5</th>\n",
       "      <td>Suministros Martínez</td>\n",
       "      <td>3.67</td>\n",
       "      <td>22</td>\n",
       "      <td>Zona Centro</td>\n",
       "      <td>19</td>\n",
       "      <td>32</td>\n",
       "      <td>41</td>\n",
       "      <td>42</td>\n",
       "    </tr>\n",
       "  </tbody>\n",
       "</table>\n",
       "</div>"
      ],
      "text/plain": [
       "                Cliente  Precio Unidad  Cantidad         Zona  Cantidad2  \\\n",
       "0   Comercial Pérez S.A           1.74        29  Zona Centro         31   \n",
       "1  Distribuciones López           2.68        37  Zona Centro         39   \n",
       "2   Almacenes Rodríguez           1.65        64  Zona Centro         66   \n",
       "3    Importadora García           2.23        35  Zona Centro         37   \n",
       "4   Mercantil Fernández           1.64        19  Zona Centro         16   \n",
       "5  Suministros Martínez           3.67        22  Zona Centro         19   \n",
       "\n",
       "   Cantidad3  Cantidad4  dif_cantidad  \n",
       "0         39         60            35  \n",
       "1         47         76            27  \n",
       "2         74        130             0  \n",
       "3         45         72            29  \n",
       "4         29         35            45  \n",
       "5         32         41            42  "
      ]
     },
     "execution_count": 2,
     "metadata": {},
     "output_type": "execute_result"
    }
   ],
   "source": [
    "# Practica 24:Crear el DataFrame pedidos de los ejercicios de hoy, y crear un campo nuevo que se llamará \n",
    "# dif_cantidad y que me dará la diferencia que hay entre la cantidad más grande de toda la serie y la cantidad de cada fila.\n",
    "import pandas as pd\n",
    "pedidos = pd.DataFrame([\n",
    "    {'Cliente':'Comercial Pérez S.A','Precio Unidad':1.74,'Cantidad':29},\n",
    "    {'Cliente':'Distribuciones López','Precio Unidad':2.68,'Cantidad':37},\n",
    "    {'Cliente':'Almacenes Rodríguez','Precio Unidad':1.65,'Cantidad':64},\n",
    "    {'Cliente':'Importadora García','Precio Unidad':2.23,'Cantidad':35},\n",
    "    {'Cliente':'Mercantil Fernández','Precio Unidad':1.64,'Cantidad':19},\n",
    "    {'Cliente':'Suministros Martínez','Precio Unidad':3.67,'Cantidad':22}\n",
    "])\n",
    "\n",
    "pedidos['Cliente'].sort_values(ascending=True, ignore_index=True)\n",
    "\n",
    "pedidos['Zona'] = 'Zona Centro'\n",
    "\n",
    "def modificar_cant(x):\n",
    "    if x>25:\n",
    "        return x+2\n",
    "    else:\n",
    "        return x-3  \n",
    "\n",
    "pedidos['Cantidad2'] = pedidos['Cantidad'].apply(modificar_cant)\n",
    "\n",
    "pedidos['Cantidad3'] = pedidos['Cantidad'] + 10\n",
    "pedidos['Cantidad4'] = pedidos['Cantidad'] + pedidos['Cantidad2']\n",
    "\n",
    "# Practica\n",
    "\n",
    "pedidos['dif_cantidad'] = pedidos['Cantidad'].max() - pedidos['Cantidad']\n",
    "pedidos\n"
   ]
  },
  {
   "cell_type": "code",
   "execution_count": null,
   "metadata": {},
   "outputs": [
    {
     "data": {
      "text/html": [
       "<div>\n",
       "<style scoped>\n",
       "    .dataframe tbody tr th:only-of-type {\n",
       "        vertical-align: middle;\n",
       "    }\n",
       "\n",
       "    .dataframe tbody tr th {\n",
       "        vertical-align: top;\n",
       "    }\n",
       "\n",
       "    .dataframe thead th {\n",
       "        text-align: right;\n",
       "    }\n",
       "</style>\n",
       "<table border=\"1\" class=\"dataframe\">\n",
       "  <thead>\n",
       "    <tr style=\"text-align: right;\">\n",
       "      <th></th>\n",
       "      <th>Cliente</th>\n",
       "      <th>Precio Unidad</th>\n",
       "      <th>Cantidad</th>\n",
       "      <th>Zona</th>\n",
       "      <th>Cantidad2</th>\n",
       "      <th>Cantidad3</th>\n",
       "      <th>Cantidad4</th>\n",
       "      <th>dif_cantidad</th>\n",
       "      <th>Transportista</th>\n",
       "    </tr>\n",
       "  </thead>\n",
       "  <tbody>\n",
       "    <tr>\n",
       "      <th>0</th>\n",
       "      <td>Comercial Pérez S.A</td>\n",
       "      <td>1.74</td>\n",
       "      <td>29</td>\n",
       "      <td>Zona Centro</td>\n",
       "      <td>31</td>\n",
       "      <td>39</td>\n",
       "      <td>60</td>\n",
       "      <td>35</td>\n",
       "      <td>Seur</td>\n",
       "    </tr>\n",
       "    <tr>\n",
       "      <th>1</th>\n",
       "      <td>Distribuciones López</td>\n",
       "      <td>2.68</td>\n",
       "      <td>37</td>\n",
       "      <td>Zona Centro</td>\n",
       "      <td>39</td>\n",
       "      <td>47</td>\n",
       "      <td>76</td>\n",
       "      <td>27</td>\n",
       "      <td>Seur</td>\n",
       "    </tr>\n",
       "    <tr>\n",
       "      <th>2</th>\n",
       "      <td>Almacenes Rodríguez</td>\n",
       "      <td>1.65</td>\n",
       "      <td>64</td>\n",
       "      <td>Zona Centro</td>\n",
       "      <td>66</td>\n",
       "      <td>74</td>\n",
       "      <td>130</td>\n",
       "      <td>0</td>\n",
       "      <td>Seur</td>\n",
       "    </tr>\n",
       "    <tr>\n",
       "      <th>3</th>\n",
       "      <td>Importadora García</td>\n",
       "      <td>2.23</td>\n",
       "      <td>35</td>\n",
       "      <td>Zona Centro</td>\n",
       "      <td>37</td>\n",
       "      <td>45</td>\n",
       "      <td>72</td>\n",
       "      <td>29</td>\n",
       "      <td>Seur</td>\n",
       "    </tr>\n",
       "    <tr>\n",
       "      <th>4</th>\n",
       "      <td>Mercantil Fernández</td>\n",
       "      <td>1.64</td>\n",
       "      <td>19</td>\n",
       "      <td>Zona Centro</td>\n",
       "      <td>16</td>\n",
       "      <td>29</td>\n",
       "      <td>35</td>\n",
       "      <td>45</td>\n",
       "      <td>Seur</td>\n",
       "    </tr>\n",
       "    <tr>\n",
       "      <th>5</th>\n",
       "      <td>Suministros Martínez</td>\n",
       "      <td>3.67</td>\n",
       "      <td>22</td>\n",
       "      <td>Zona Centro</td>\n",
       "      <td>19</td>\n",
       "      <td>32</td>\n",
       "      <td>41</td>\n",
       "      <td>42</td>\n",
       "      <td>Seur</td>\n",
       "    </tr>\n",
       "  </tbody>\n",
       "</table>\n",
       "</div>"
      ],
      "text/plain": [
       "                Cliente  Precio Unidad  Cantidad         Zona  Cantidad2  \\\n",
       "0   Comercial Pérez S.A           1.74        29  Zona Centro         31   \n",
       "1  Distribuciones López           2.68        37  Zona Centro         39   \n",
       "2   Almacenes Rodríguez           1.65        64  Zona Centro         66   \n",
       "3    Importadora García           2.23        35  Zona Centro         37   \n",
       "4   Mercantil Fernández           1.64        19  Zona Centro         16   \n",
       "5  Suministros Martínez           3.67        22  Zona Centro         19   \n",
       "\n",
       "   Cantidad3  Cantidad4  dif_cantidad Transportista  \n",
       "0         39         60            35          Seur  \n",
       "1         47         76            27          Seur  \n",
       "2         74        130             0          Seur  \n",
       "3         45         72            29          Seur  \n",
       "4         29         35            45          Seur  \n",
       "5         32         41            42          Seur  "
      ]
     },
     "execution_count": 22,
     "metadata": {},
     "output_type": "execute_result"
    }
   ],
   "source": [
    "#Practica 25: Crear en el DataFrame una columna nueva que se llame transportista, cuyo valor sea 'SEUR'\n",
    "pedidos['Transportista'] = 'Seur'\n",
    "pedidos\n"
   ]
  },
  {
   "cell_type": "code",
   "execution_count": null,
   "metadata": {},
   "outputs": [
    {
     "data": {
      "text/html": [
       "<div>\n",
       "<style scoped>\n",
       "    .dataframe tbody tr th:only-of-type {\n",
       "        vertical-align: middle;\n",
       "    }\n",
       "\n",
       "    .dataframe tbody tr th {\n",
       "        vertical-align: top;\n",
       "    }\n",
       "\n",
       "    .dataframe thead th {\n",
       "        text-align: right;\n",
       "    }\n",
       "</style>\n",
       "<table border=\"1\" class=\"dataframe\">\n",
       "  <thead>\n",
       "    <tr style=\"text-align: right;\">\n",
       "      <th></th>\n",
       "      <th>Cliente</th>\n",
       "      <th>Precio Unidad</th>\n",
       "      <th>Cantidad</th>\n",
       "      <th>Zona</th>\n",
       "      <th>Cantidad2</th>\n",
       "      <th>Cantidad3</th>\n",
       "      <th>Cantidad4</th>\n",
       "      <th>dif_cantidad</th>\n",
       "      <th>Transportista</th>\n",
       "      <th>Precio Uniad2</th>\n",
       "    </tr>\n",
       "  </thead>\n",
       "  <tbody>\n",
       "    <tr>\n",
       "      <th>0</th>\n",
       "      <td>Comercial Pérez S.A</td>\n",
       "      <td>1.74</td>\n",
       "      <td>29</td>\n",
       "      <td>Zona Centro</td>\n",
       "      <td>31</td>\n",
       "      <td>39</td>\n",
       "      <td>60</td>\n",
       "      <td>35</td>\n",
       "      <td>Seur</td>\n",
       "      <td>1.914</td>\n",
       "    </tr>\n",
       "    <tr>\n",
       "      <th>1</th>\n",
       "      <td>Distribuciones López</td>\n",
       "      <td>2.68</td>\n",
       "      <td>37</td>\n",
       "      <td>Zona Centro</td>\n",
       "      <td>39</td>\n",
       "      <td>47</td>\n",
       "      <td>76</td>\n",
       "      <td>27</td>\n",
       "      <td>Seur</td>\n",
       "      <td>2.948</td>\n",
       "    </tr>\n",
       "    <tr>\n",
       "      <th>2</th>\n",
       "      <td>Almacenes Rodríguez</td>\n",
       "      <td>1.65</td>\n",
       "      <td>64</td>\n",
       "      <td>Zona Centro</td>\n",
       "      <td>66</td>\n",
       "      <td>74</td>\n",
       "      <td>130</td>\n",
       "      <td>0</td>\n",
       "      <td>Seur</td>\n",
       "      <td>1.650</td>\n",
       "    </tr>\n",
       "    <tr>\n",
       "      <th>3</th>\n",
       "      <td>Importadora García</td>\n",
       "      <td>2.23</td>\n",
       "      <td>35</td>\n",
       "      <td>Zona Centro</td>\n",
       "      <td>37</td>\n",
       "      <td>45</td>\n",
       "      <td>72</td>\n",
       "      <td>29</td>\n",
       "      <td>Seur</td>\n",
       "      <td>2.453</td>\n",
       "    </tr>\n",
       "    <tr>\n",
       "      <th>4</th>\n",
       "      <td>Mercantil Fernández</td>\n",
       "      <td>1.64</td>\n",
       "      <td>19</td>\n",
       "      <td>Zona Centro</td>\n",
       "      <td>16</td>\n",
       "      <td>29</td>\n",
       "      <td>35</td>\n",
       "      <td>45</td>\n",
       "      <td>Seur</td>\n",
       "      <td>1.640</td>\n",
       "    </tr>\n",
       "    <tr>\n",
       "      <th>5</th>\n",
       "      <td>Suministros Martínez</td>\n",
       "      <td>3.67</td>\n",
       "      <td>22</td>\n",
       "      <td>Zona Centro</td>\n",
       "      <td>19</td>\n",
       "      <td>32</td>\n",
       "      <td>41</td>\n",
       "      <td>42</td>\n",
       "      <td>Seur</td>\n",
       "      <td>4.037</td>\n",
       "    </tr>\n",
       "  </tbody>\n",
       "</table>\n",
       "</div>"
      ],
      "text/plain": [
       "                Cliente  Precio Unidad  Cantidad         Zona  Cantidad2  \\\n",
       "0   Comercial Pérez S.A           1.74        29  Zona Centro         31   \n",
       "1  Distribuciones López           2.68        37  Zona Centro         39   \n",
       "2   Almacenes Rodríguez           1.65        64  Zona Centro         66   \n",
       "3    Importadora García           2.23        35  Zona Centro         37   \n",
       "4   Mercantil Fernández           1.64        19  Zona Centro         16   \n",
       "5  Suministros Martínez           3.67        22  Zona Centro         19   \n",
       "\n",
       "   Cantidad3  Cantidad4  dif_cantidad Transportista  Precio Uniad2  \n",
       "0         39         60            35          Seur          1.914  \n",
       "1         47         76            27          Seur          2.948  \n",
       "2         74        130             0          Seur          1.650  \n",
       "3         45         72            29          Seur          2.453  \n",
       "4         29         35            45          Seur          1.640  \n",
       "5         32         41            42          Seur          4.037  "
      ]
     },
     "execution_count": 23,
     "metadata": {},
     "output_type": "execute_result"
    }
   ],
   "source": [
    "#Practica 26: Crear en el DataFrame pedidos, la columna nueva Precio Unidad2 que incremente sobre la Serie Precio Unidad un 10% si el precio unidad es >1.70\n",
    "\n",
    "def incremento(x):\n",
    "    if x>1.70:\n",
    "        return x*1.10\n",
    "    else:\n",
    "        return x\n",
    "\n",
    "pedidos['Precio Uniad2'] = pedidos['Precio Unidad'].apply(incremento)\n",
    "pedidos"
   ]
  },
  {
   "cell_type": "code",
   "execution_count": 26,
   "metadata": {},
   "outputs": [],
   "source": [
    "ventas = pd.read_csv(r\".\\DataFrames\\January 2019.csv\")"
   ]
  },
  {
   "cell_type": "code",
   "execution_count": 64,
   "metadata": {},
   "outputs": [
    {
     "data": {
      "text/html": [
       "<div>\n",
       "<style scoped>\n",
       "    .dataframe tbody tr th:only-of-type {\n",
       "        vertical-align: middle;\n",
       "    }\n",
       "\n",
       "    .dataframe tbody tr th {\n",
       "        vertical-align: top;\n",
       "    }\n",
       "\n",
       "    .dataframe thead th {\n",
       "        text-align: right;\n",
       "    }\n",
       "</style>\n",
       "<table border=\"1\" class=\"dataframe\">\n",
       "  <thead>\n",
       "    <tr style=\"text-align: right;\">\n",
       "      <th></th>\n",
       "      <th>IdOrder</th>\n",
       "      <th>Date</th>\n",
       "      <th>Country</th>\n",
       "      <th>Units</th>\n",
       "      <th>Revenue</th>\n",
       "      <th>Customer</th>\n",
       "    </tr>\n",
       "  </thead>\n",
       "  <tbody>\n",
       "    <tr>\n",
       "      <th>16</th>\n",
       "      <td>17</td>\n",
       "      <td>2019-01-15</td>\n",
       "      <td>Colombia</td>\n",
       "      <td>392</td>\n",
       "      <td>16229.64</td>\n",
       "      <td>Cyberdyne Systems</td>\n",
       "    </tr>\n",
       "    <tr>\n",
       "      <th>78</th>\n",
       "      <td>79</td>\n",
       "      <td>2019-01-13</td>\n",
       "      <td>Panama</td>\n",
       "      <td>283</td>\n",
       "      <td>24813.10</td>\n",
       "      <td>Cyberdyne Systems</td>\n",
       "    </tr>\n",
       "    <tr>\n",
       "      <th>123</th>\n",
       "      <td>124</td>\n",
       "      <td>2019-01-03</td>\n",
       "      <td>Colombia</td>\n",
       "      <td>10</td>\n",
       "      <td>729.39</td>\n",
       "      <td>Cyberdyne Systems</td>\n",
       "    </tr>\n",
       "    <tr>\n",
       "      <th>132</th>\n",
       "      <td>133</td>\n",
       "      <td>2019-01-24</td>\n",
       "      <td>Panama</td>\n",
       "      <td>146</td>\n",
       "      <td>10130.00</td>\n",
       "      <td>Cyberdyne Systems</td>\n",
       "    </tr>\n",
       "    <tr>\n",
       "      <th>136</th>\n",
       "      <td>137</td>\n",
       "      <td>2019-01-06</td>\n",
       "      <td>Colombia</td>\n",
       "      <td>56</td>\n",
       "      <td>535.82</td>\n",
       "      <td>Cyberdyne Systems</td>\n",
       "    </tr>\n",
       "    <tr>\n",
       "      <th>152</th>\n",
       "      <td>153</td>\n",
       "      <td>2019-01-23</td>\n",
       "      <td>Panama</td>\n",
       "      <td>212</td>\n",
       "      <td>8763.35</td>\n",
       "      <td>Cyberdyne Systems</td>\n",
       "    </tr>\n",
       "    <tr>\n",
       "      <th>159</th>\n",
       "      <td>160</td>\n",
       "      <td>2019-01-22</td>\n",
       "      <td>Canada</td>\n",
       "      <td>239</td>\n",
       "      <td>755.94</td>\n",
       "      <td>Cyberdyne Systems</td>\n",
       "    </tr>\n",
       "    <tr>\n",
       "      <th>23</th>\n",
       "      <td>24</td>\n",
       "      <td>2019-01-07</td>\n",
       "      <td>Canada</td>\n",
       "      <td>306</td>\n",
       "      <td>4131.21</td>\n",
       "      <td>Hyperion Systems</td>\n",
       "    </tr>\n",
       "    <tr>\n",
       "      <th>51</th>\n",
       "      <td>52</td>\n",
       "      <td>2019-01-01</td>\n",
       "      <td>Brazil</td>\n",
       "      <td>86</td>\n",
       "      <td>1264.87</td>\n",
       "      <td>Hyperion Systems</td>\n",
       "    </tr>\n",
       "    <tr>\n",
       "      <th>109</th>\n",
       "      <td>110</td>\n",
       "      <td>2019-01-04</td>\n",
       "      <td>Colombia</td>\n",
       "      <td>251</td>\n",
       "      <td>16268.15</td>\n",
       "      <td>Hyperion Systems</td>\n",
       "    </tr>\n",
       "    <tr>\n",
       "      <th>137</th>\n",
       "      <td>138</td>\n",
       "      <td>2019-01-22</td>\n",
       "      <td>Colombia</td>\n",
       "      <td>399</td>\n",
       "      <td>13430.62</td>\n",
       "      <td>Hyperion Systems</td>\n",
       "    </tr>\n",
       "    <tr>\n",
       "      <th>10</th>\n",
       "      <td>11</td>\n",
       "      <td>2019-01-27</td>\n",
       "      <td>Canada</td>\n",
       "      <td>187</td>\n",
       "      <td>4046.31</td>\n",
       "      <td>Yoyodyne Propulsion Systems</td>\n",
       "    </tr>\n",
       "    <tr>\n",
       "      <th>127</th>\n",
       "      <td>128</td>\n",
       "      <td>2019-01-04</td>\n",
       "      <td>USA</td>\n",
       "      <td>330</td>\n",
       "      <td>10523.01</td>\n",
       "      <td>Yoyodyne Propulsion Systems</td>\n",
       "    </tr>\n",
       "  </tbody>\n",
       "</table>\n",
       "</div>"
      ],
      "text/plain": [
       "     IdOrder        Date   Country  Units   Revenue  \\\n",
       "16        17  2019-01-15  Colombia    392  16229.64   \n",
       "78        79  2019-01-13    Panama    283  24813.10   \n",
       "123      124  2019-01-03  Colombia     10    729.39   \n",
       "132      133  2019-01-24    Panama    146  10130.00   \n",
       "136      137  2019-01-06  Colombia     56    535.82   \n",
       "152      153  2019-01-23    Panama    212   8763.35   \n",
       "159      160  2019-01-22    Canada    239    755.94   \n",
       "23        24  2019-01-07    Canada    306   4131.21   \n",
       "51        52  2019-01-01    Brazil     86   1264.87   \n",
       "109      110  2019-01-04  Colombia    251  16268.15   \n",
       "137      138  2019-01-22  Colombia    399  13430.62   \n",
       "10        11  2019-01-27    Canada    187   4046.31   \n",
       "127      128  2019-01-04       USA    330  10523.01   \n",
       "\n",
       "                        Customer  \n",
       "16             Cyberdyne Systems  \n",
       "78             Cyberdyne Systems  \n",
       "123            Cyberdyne Systems  \n",
       "132            Cyberdyne Systems  \n",
       "136            Cyberdyne Systems  \n",
       "152            Cyberdyne Systems  \n",
       "159            Cyberdyne Systems  \n",
       "23              Hyperion Systems  \n",
       "51              Hyperion Systems  \n",
       "109             Hyperion Systems  \n",
       "137             Hyperion Systems  \n",
       "10   Yoyodyne Propulsion Systems  \n",
       "127  Yoyodyne Propulsion Systems  "
      ]
     },
     "execution_count": 64,
     "metadata": {},
     "output_type": "execute_result"
    }
   ],
   "source": [
    "# Practica 27: Queremos tener un objeto clonado de ventas que contenga unicamente los Customers cuyo nombre contenga la palabra 'Systems' y el Customer debe estar ordenado alfabéticamente.\n",
    "ventas_systems = ventas[ventas['Customer'].str.contains('Systems')].sort_values(ascending=True, by='Customer')\n",
    "ventas_systems"
   ]
  },
  {
   "cell_type": "code",
   "execution_count": 67,
   "metadata": {},
   "outputs": [
    {
     "name": "stdout",
     "output_type": "stream",
     "text": [
      "El número de Customer que terminan por la letra 'n' es: 40\n"
     ]
    }
   ],
   "source": [
    "# Practica 28:Queremos ver en un texto, el número de Customers cuyo nombre termina por 'n'.\n",
    "print(\"El número de Customer que terminan por la letra 'n' es:\", ventas[ventas['Customer'].str.endswith('n')].IdOrder.count())  "
   ]
  },
  {
   "cell_type": "code",
   "execution_count": 69,
   "metadata": {},
   "outputs": [
    {
     "data": {
      "text/plain": [
       "5               Spacely Sprockets\n",
       "6                          BiffCo\n",
       "7              Delos Incorporated\n",
       "8               Monarch Solutions\n",
       "10    Yoyodyne Propulsion Systems\n",
       "23               Hyperion Systems\n",
       "24                        Initech\n",
       "28                   Soylent Corp\n",
       "33             Tyrell Corporation\n",
       "35                         Oscorp\n",
       "Name: Customer, dtype: object"
      ]
     },
     "execution_count": 69,
     "metadata": {},
     "output_type": "execute_result"
    }
   ],
   "source": [
    "# Práctica 29: Queremos ver una lista con los 10 primeros Customers que són de Canadá.\n",
    "ventas2 = ventas[ventas['Country']=='Canada'].head(10)\n",
    "ventas2['Customer'] "
   ]
  },
  {
   "cell_type": "code",
   "execution_count": 57,
   "metadata": {},
   "outputs": [
    {
     "name": "stdout",
     "output_type": "stream",
     "text": [
      "El número de registros cuyo IdOrder es mayor que 180 son: 9\n"
     ]
    }
   ],
   "source": [
    "# Práctica 30: Queremos ver en un texto el número de registros cuyo IdOrder >180\n",
    "print(\"El número de registros cuyo IdOrder es mayor que 180 son:\", ventas[ventas['IdOrder']>180].IdOrder.count())  "
   ]
  },
  {
   "cell_type": "code",
   "execution_count": null,
   "metadata": {},
   "outputs": [],
   "source": [
    "#Práctica 31: Queremos averiguar la suma total de Revenue después de haber juntado los datos de los 3 ficheros .csv y queremos ver este total solamente de los países que son 'USA' o 'Canada' y cuyo importe está comprendido entre 3000 y 12000\n",
    "\n",
    "ventas_enero = pd.read_csv(r\".\\DataFrames\\January 2019.csv\")\n",
    "ventas_febrero = pd.read_csv(r\".\\DataFrames\\February 2019.csv\")\n",
    "ventas_marzo = pd.read_csv(r\".\\DataFrames\\March 2019.csv\")\n",
    "\n",
    "enero = ventas_enero['Country']"
   ]
  }
 ],
 "metadata": {
  "kernelspec": {
   "display_name": "Python 3",
   "language": "python",
   "name": "python3"
  },
  "language_info": {
   "codemirror_mode": {
    "name": "ipython",
    "version": 3
   },
   "file_extension": ".py",
   "mimetype": "text/x-python",
   "name": "python",
   "nbconvert_exporter": "python",
   "pygments_lexer": "ipython3",
   "version": "3.12.3"
  }
 },
 "nbformat": 4,
 "nbformat_minor": 2
}
