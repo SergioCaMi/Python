{
 "cells": [
  {
   "cell_type": "code",
   "execution_count": 2,
   "metadata": {},
   "outputs": [
    {
     "name": "stdout",
     "output_type": "stream",
     "text": [
      "['Enero', 'Febrero', 'Marzo', 'Mayo', 'Junio']\n",
      "['Enero', 'Febrero', 'Marzo', 'Mayo', 'Junio', 'Julio', 'Agosto']\n",
      "['Enero', 'Febrero', 'Marzo', 'Abril', 'Mayo', 'Junio', 'Julio', 'Agosto']\n",
      "['Enero', 'Febrero', 'Marzo', 'Abril', 'Mayo', 'Junio', 'Julio', 'Agosto', 'Marzo', 'Junio']\n",
      "['Enero', 'Febrero', 'Marzo', 'Abril', 'Mayo', 'Junio', 'Julio', 'Agosto', 'Junio']\n"
     ]
    }
   ],
   "source": [
    "# Practica 1: Crear una lista con los meses de enero a junio (excepto abril). Luego:\n",
    "#    - Añadir julio y agosto.\n",
    "#    - Insertar abril en su lugar correcto.\n",
    "#    - Añadir marzo y junio al final.\n",
    "#    - Eliminar los elementos desordenados.\n",
    "#        - Respuesta:\n",
    "            \n",
    "            \n",
    "listaMeses = [\"Enero\", \"Febrero\", \"Marzo\", \"Mayo\", \"Junio\"]\n",
    "print(listaMeses)\n",
    "listaMeses.append(\"Julio\")\n",
    "listaMeses.append(\"Agosto\")\n",
    "print(listaMeses)\n",
    "listaMeses.insert(3, \"Abril\")\n",
    "print(listaMeses)\n",
    "listaMeses.append(\"Marzo\")\n",
    "listaMeses.append(\"Junio\")\n",
    "print(listaMeses)\n",
    "del listaMeses[8:9]\n",
    "print(listaMeses)\n",
    "   "
   ]
  },
  {
   "cell_type": "code",
   "execution_count": null,
   "metadata": {},
   "outputs": [
    {
     "name": "stdout",
     "output_type": "stream",
     "text": [
      "5\n",
      "5 es menor o igual que 20\n"
     ]
    }
   ],
   "source": [
    "# Practica 2: Escribir un programa que pida un número y determine si es mayor o menor que 20\n",
    "i=int(input('Pon un número:'))\n",
    "print(i)\n",
    "if i>20:\n",
    "    print(i, \"es mayor que 20\")\n",
    "else:\n",
    "    print(i, \"es menor o igual que 20\")"
   ]
  },
  {
   "cell_type": "code",
   "execution_count": 4,
   "metadata": {},
   "outputs": [
    {
     "name": "stdout",
     "output_type": "stream",
     "text": [
      "2.5\n",
      "2.5 es menor o igual que 20\n"
     ]
    }
   ],
   "source": [
    "#Practica 2 Bis: lo mismo, pero con números decimales.\n",
    "\n",
    "i=input('Pon un número:')\n",
    "print(float(i))\n",
    "if float(i)>20:\n",
    "    print(float(i), \"es mayor que 20\")\n",
    "else:\n",
    "    print(float(i), \"es menor o igual que 20\")"
   ]
  },
  {
   "cell_type": "code",
   "execution_count": 5,
   "metadata": {},
   "outputs": [
    {
     "name": "stdout",
     "output_type": "stream",
     "text": [
      "El día de la semana es Lunes\n",
      "El día de la semana es Martes\n",
      "El día de la semana es Miércoles\n",
      "El día de la semana es Jueves\n",
      "El día de la semana es Viernes\n",
      "El día de la semana es Sábado\n",
      "El día de la semana es Domingo\n"
     ]
    }
   ],
   "source": [
    "#Practica 3:Mediante un bucle que recorra los dias de la semana que estan en la lista semana\n",
    "#mostrar un texto en cada iteración que ponga \"El dia de la semana es XXX\"\n",
    "dias =['Lunes', 'Martes', 'Miércoles', 'Jueves', 'Viernes', 'Sábado', 'Domingo']\n",
    "for i in dias:\n",
    "    print('El día de la semana es', i)"
   ]
  },
  {
   "cell_type": "code",
   "execution_count": 6,
   "metadata": {},
   "outputs": [
    {
     "name": "stdout",
     "output_type": "stream",
     "text": [
      "El número es 15\n",
      "El número es 37\n",
      "El número es 42\n",
      "El número es 18\n",
      "El número es 26\n",
      "El número es 64\n",
      "El número es 75\n"
     ]
    }
   ],
   "source": [
    "#Practica 4: Mediante un bucle que recorra y muestre con un texto la siguiente lista de numeros [15,37,42,18,26,64,75], \"el numero es X\"\n",
    "numeros=[15,37,42,18,26,64,75]\n",
    "for i in numeros:\n",
    "    print('El número es', i)"
   ]
  },
  {
   "cell_type": "code",
   "execution_count": 7,
   "metadata": {},
   "outputs": [
    {
     "name": "stdout",
     "output_type": "stream",
     "text": [
      "El número es 6\n",
      "El número es 7\n",
      "El número es 8\n",
      "El número es 9\n",
      "El número es 10\n",
      "El número es 11\n",
      "El número es 12\n",
      "El número es 13\n",
      "El número es 14\n",
      "El número es 15\n",
      "El número es 16\n",
      "El número es 17\n",
      "El número es 18\n",
      "El número es 19\n",
      "El número es 20\n",
      "El número es 21\n",
      "El número es 22\n",
      "El número es 23\n"
     ]
    }
   ],
   "source": [
    "#Practica 5: Mediante un bucle que recorra y muestre con un texto una lista generada con range, para ver desde el numero 6 hasta el 23, con el texto \"el numero es X\"\n",
    "numeros=range(6,24)\n",
    "for i in numeros:\n",
    "    print('El número es', i)"
   ]
  },
  {
   "cell_type": "code",
   "execution_count": 10,
   "metadata": {},
   "outputs": [
    {
     "name": "stdout",
     "output_type": "stream",
     "text": [
      "El número es 54\n",
      "El número es 52\n",
      "El número es 50\n",
      "El número es 48\n",
      "El número es 46\n",
      "El número es 44\n",
      "El número es 42\n",
      "El número es 40\n",
      "El número es 38\n",
      "El número es 36\n",
      "El número es 34\n",
      "El número es 32\n",
      "El número es 30\n",
      "El número es 28\n",
      "El número es 26\n",
      "El número es 24\n",
      "El número es 22\n",
      "El número es 20\n",
      "El número es 18\n",
      "El número es 16\n",
      "El número es 14\n",
      "El número es 12\n"
     ]
    }
   ],
   "source": [
    "#Practica 6: Mediante un bucle que recorra y muestre con un texto una lista generada con range, para ver desde el numero 54 hasta el 12, de dos en dos con el texto \"el numero es X\"\n",
    "numeros=range(54,11, -2)\n",
    "for i in numeros:\n",
    "    print('El número es', i)"
   ]
  },
  {
   "cell_type": "code",
   "execution_count": 17,
   "metadata": {},
   "outputs": [
    {
     "name": "stdout",
     "output_type": "stream",
     "text": [
      "El  1  mes del año es Enero\n",
      "El  2  mes del año es Febrero\n",
      "El  3  mes del año es Marzo\n",
      "El  4  mes del año es Abril\n",
      "El  5  mes del año es Mayo\n",
      "El  6  mes del año es Junio\n",
      "El  7  mes del año es Julio\n",
      "El  8  mes del año es Agosto\n",
      "El  9  mes del año es Septiembre\n",
      "El  10  mes del año es Octubre\n",
      "El  11  mes del año es Noviembre\n",
      "El  12  mes del año es Diciembre\n"
     ]
    }
   ],
   "source": [
    "#Practica 7: Mediante un bucle que recorra y muestre la lista de los meses del año y mostrar un texto que ponga, \"El 1 mes del año es enero\", \"el 2 mes del año es febrero\"\n",
    "meses=['Enero','Febrero','Marzo','Abril','Mayo','Junio','Julio','Agosto','Septiembre','Octubre','Noviembre','Diciembre']\n",
    "i=1\n",
    "for x in meses:\n",
    "    print('El ',i ,' mes del año es', x)\n",
    "    i+=1"
   ]
  },
  {
   "cell_type": "code",
   "execution_count": 19,
   "metadata": {},
   "outputs": [
    {
     "name": "stdout",
     "output_type": "stream",
     "text": [
      "El  primer  mes del año es Enero\n",
      "El  segundo  mes del año es Febrero\n",
      "El  tercero  mes del año es Marzo\n",
      "El  cuarto  mes del año es Abril\n",
      "El  quinto  mes del año es Mayo\n",
      "El  sexto  mes del año es Junio\n",
      "El  septimo  mes del año es Julio\n",
      "El  octavo  mes del año es Agosto\n",
      "El  noveno  mes del año es Septiembre\n",
      "El  décimo  mes del año es Octubre\n",
      "El  undécimo  mes del año es Noviembre\n",
      "El  decimosegundo  mes del año es Diciembre\n"
     ]
    }
   ],
   "source": [
    "#Practica 8: Mediante un bucle que recorra y muestre la lista de los meses del año y mostrar un texto que ponga, \"El primer mes del año es enero\", \"el segundo mes del año es febrero\"\n",
    "meses=['Enero','Febrero','Marzo','Abril','Mayo','Junio','Julio','Agosto','Septiembre','Octubre','Noviembre','Diciembre']\n",
    "orden=['primer','segundo','tercero','cuarto','quinto','sexto','septimo','octavo','noveno','décimo','undécimo','decimosegundo']\n",
    "i=1\n",
    "for x in meses:\n",
    "    print('El ',orden[i-1] ,' mes del año es', x)\n",
    "    i+=1"
   ]
  }
 ],
 "metadata": {
  "kernelspec": {
   "display_name": "Python 3",
   "language": "python",
   "name": "python3"
  },
  "language_info": {
   "codemirror_mode": {
    "name": "ipython",
    "version": 3
   },
   "file_extension": ".py",
   "mimetype": "text/x-python",
   "name": "python",
   "nbconvert_exporter": "python",
   "pygments_lexer": "ipython3",
   "version": "3.13.2"
  }
 },
 "nbformat": 4,
 "nbformat_minor": 2
}
