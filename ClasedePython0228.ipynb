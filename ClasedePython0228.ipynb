{
 "cells": [
  {
   "cell_type": "code",
   "execution_count": 4,
   "metadata": {},
   "outputs": [
    {
     "name": "stdout",
     "output_type": "stream",
     "text": [
      "1\n",
      "2\n",
      "3\n",
      "4\n",
      "5\n"
     ]
    }
   ],
   "source": [
    "#Bucle infinito While\n",
    "comparador = 1\n",
    "while comparador <= 5:\n",
    "    print(comparador)\n",
    "    comparador+=1"
   ]
  },
  {
   "cell_type": "code",
   "execution_count": null,
   "metadata": {},
   "outputs": [
    {
     "ename": "TypeError",
     "evalue": "unsupported operand type(s) for -: 'tuple' and 'datetime.date'",
     "output_type": "error",
     "traceback": [
      "\u001b[1;31m---------------------------------------------------------------------------\u001b[0m",
      "\u001b[1;31mTypeError\u001b[0m                                 Traceback (most recent call last)",
      "Cell \u001b[1;32mIn[12], line 9\u001b[0m\n\u001b[0;32m      7\u001b[0m fecha\u001b[38;5;241m=\u001b[39m(year, mes, dia)\n\u001b[0;32m      8\u001b[0m fecha2 \u001b[38;5;241m=\u001b[39m date\u001b[38;5;241m.\u001b[39mtoday()\n\u001b[1;32m----> 9\u001b[0m \u001b[38;5;28mprint\u001b[39m(\u001b[38;5;124m\"\u001b[39m\u001b[38;5;124mLa diferencia en días entre la fecha dada y hoy es de\u001b[39m\u001b[38;5;124m\"\u001b[39m,\u001b[43mfecha\u001b[49m\u001b[38;5;241;43m-\u001b[39;49m\u001b[43mfecha2\u001b[49m ,\u001b[38;5;124m\"\u001b[39m\u001b[38;5;124mdias.\u001b[39m\u001b[38;5;124m\"\u001b[39m)\n",
      "\u001b[1;31mTypeError\u001b[0m: unsupported operand type(s) for -: 'tuple' and 'datetime.date'"
     ]
    }
   ],
   "source": [
    "#practica18: Crear una función para que pásandole por separado día, mes y año, nos devuelva un texto que nos devuelva la diferencia de días entre hoy y la fecha informada yyyy/mm/dd es de x días, siempre y cuandola fecha informada sea más antigua que hoy.astimezone\n",
    "from datetime import date\n",
    "\n",
    "dia=int(input(\"Introduce un día del año:\"))\n",
    "mes=int(input(\"Introduce un mes del año:\"))\n",
    "year= int(input(\"Introduce un año del año:\"))\n",
    "fecha=(year, mes, dia)\n",
    "fecha2 = date.today()\n",
    "\n",
    "print(\"La diferencia en días entre la fecha dada y hoy es de\",fecha-fecha2 ,\"dias.\")"
   ]
  },
  {
   "cell_type": "code",
   "execution_count": null,
   "metadata": {},
   "outputs": [
    {
     "name": "stdout",
     "output_type": "stream",
     "text": [
      "2025-02-28\n",
      "28\n",
      "2\n",
      "2025\n",
      "<class 'type'>\n",
      "Nos indica que es una clase\n",
      "<class 'int'>\n",
      "Nos indica que es una clase que devuelve un int\n"
     ]
    }
   ],
   "source": []
  },
  {
   "cell_type": "code",
   "execution_count": 1,
   "metadata": {},
   "outputs": [
    {
     "name": "stdout",
     "output_type": "stream",
     "text": [
      "2025-02-28 10:57:02.790891\n",
      "10 horas\n",
      "57 minutos\n",
      "2 segundos\n",
      "790891 microsegundos\n"
     ]
    }
   ],
   "source": [
    "#Si quiero trabajar con fechas y horas, la librería es datetime.\n",
    "from datetime import datetime as tiempoyhora\n",
    "ahora = tiempoyhora.now()\n",
    "print(ahora)\n",
    "\n",
    "\n",
    "#me devuelve, año, mes, día, hora, minuto y microsegundos.\n",
    "print(ahora.hour,\"horas\")\n",
    "print(ahora.minute,\"minutos\")\n",
    "print(ahora.second,\"segundos\")\n",
    "print(ahora.microsecond,\"microsegundos\")"
   ]
  },
  {
   "cell_type": "code",
   "execution_count": 14,
   "metadata": {},
   "outputs": [
    {
     "name": "stdout",
     "output_type": "stream",
     "text": [
      "2025-02-28\n",
      "28\n",
      "2\n",
      "2025\n",
      "<class 'type'>\n",
      "Nos indica que es una clase\n",
      "<class 'int'>\n",
      "Nos indica que es una clase que devuelve un int\n"
     ]
    }
   ],
   "source": [
    "#Fechas en Python:\n",
    "#Se utiliza la librería nativa de Python: datetime. Esta librería viene preinstalada en Python. Tendremos dos clases de librerías: nativas y de terceros.\n",
    "#Para llamar a una librería en Python se utiliza 'from' e 'import'.\n",
    "#Con 'import nombre_librería' se importa todo el modulo completo. Con 'from nombre import clase' importamos unicamente una parte específica del modulo directamente sin el prefijo del modulo.\n",
    "# 'from nombre import *' permite importar todo el contenido del modulo y usarlo sin el prefijo (puede dar conflictos).\n",
    "# podemos hacer también 'import nombre_librería as alias' lo que hacemos es utilizar el alias para referirnos a la librería. \n",
    "# Por ejemplo: \n",
    "# import pandas as pd => para llamara a pandas unicamente escribiríamos pd. \n",
    "#df = pd.DataFrame(data=MiLista)\n",
    "\n",
    "#Ejemplos:\n",
    "#import math = traigo el modulo\n",
    "#print(math.pi) => imprimimos el numero pi.\n",
    "#Si hacemos:\n",
    "#from math import pi\n",
    "#podemos utilizar directamente pi sin el prefijo del modulo:\n",
    "#print(pi)\n",
    "\n",
    "#Se pueden traer varias: \n",
    "#from math import pi, sqrt, ....\n",
    "\n",
    "\n",
    "\n",
    "\n",
    "#Para fecha vamos a llamar a la clase date del modulo datetime:\n",
    "\n",
    "from datetime import date as fecha\n",
    "hoy = date.today()\n",
    "#estoy creando una instancia de la clase date. por lo tanto, 'hoy' es un objeto 'today' con todos sus metodos y propiedades.\n",
    "print(hoy)\n",
    "print(hoy.day)\n",
    "print(hoy.month)\n",
    "print(hoy.year)\n",
    "\n",
    "#Para saber que clase de objeto es lo que importamos, podemos usar la clase type()\n",
    "\n",
    "print(type(date))\n",
    "print(\"Nos indica que es una clase\")\n",
    "print(type(hoy.day))\n",
    "print(\"Nos indica que es una clase que devuelve un int\")"
   ]
  },
  {
   "cell_type": "code",
   "execution_count": 42,
   "metadata": {},
   "outputs": [
    {
     "name": "stdout",
     "output_type": "stream",
     "text": [
      "2025-02-28\n",
      "El día de hoy es 28\n",
      "Dia de la fecha 5\n",
      "Dia de la fecha 05\n",
      "El día de la semana es 5\n",
      "El día de la semana es Friday\n",
      "El mes de la fecha es 02\n",
      "El mes de la fecha es February\n",
      "El mes de la fecha es Feb\n",
      "El mes de la fecha es 25\n",
      "El mes de la fecha es 2025\n",
      "El mes de la fecha es 02/28/25\n"
     ]
    }
   ],
   "source": [
    "#Como darle formato a una fecha?\n",
    "#Usaremos dentro de la clase date un método que se llama: strftime(string format time), que devolverá una cadena de texto.\n",
    "print(hoy)\n",
    "#Para tener solo el día haremos:\n",
    "print(\"El día de hoy es\", hoy.strftime('%d'))\n",
    "fecha2= date(2025,1,5)\n",
    "print('Dia de la fecha', fecha2.day)\n",
    "print('Dia de la fecha', fecha2.strftime('%d'))\n",
    "\n",
    "#El día dentro de la semana\n",
    "print(\"El día de la semana es\",hoy.strftime('%w'))\n",
    "\n",
    "#El día dentro de la semana en letras\n",
    "print(\"El día de la semana es\",hoy.strftime('%A'))\n",
    "\n",
    "#El mes de la fecha\n",
    "print(\"El mes de la fecha es\",hoy.strftime('%m'))\n",
    "\n",
    "#El mes de la fecha en letras\n",
    "print(\"El mes de la fecha es\",hoy.strftime('%B'))\n",
    "\n",
    "#El mes de la fecha en letras abreviado\n",
    "print(\"El mes de la fecha es\",hoy.strftime('%b'))\n",
    "\n",
    "#El año de la fecha abreviado\n",
    "print(\"El mes de la fecha es\",hoy.strftime('%y'))\n",
    "\n",
    "#El año de la fecha \n",
    "print(\"El mes de la fecha es\",hoy.strftime('%Y'))\n",
    "\n",
    "#fecha abreviada\n",
    "print(\"El mes de la fecha es\",hoy.strftime('%x'))\n",
    "\n",
    "\n",
    "#El idioma de salida por defecto es inglés, pero puedes cambiarlo usando el módulo locale y estableciendo la configuración de idioma, por ejemplo, para español de España, usa locale.setlocale(locale.LC_ALL, 'es-ES').\n"
   ]
  },
  {
   "cell_type": "code",
   "execution_count": null,
   "metadata": {},
   "outputs": [
    {
     "name": "stdout",
     "output_type": "stream",
     "text": [
      "La semana del año de la fecha es 08\n",
      "Fecha 28/02/2025\n",
      "Fecha 08 02 28\n",
      "Fecha 02/28/25\n"
     ]
    }
   ],
   "source": [
    "#Seguimos\n",
    "#La semana del año es \n",
    "print(\"La semana del año de la fecha es\",hoy.strftime('%W'))\n",
    "\n",
    "#Formato personalizado a la fecha\n",
    "print(\"Fecha\", hoy.strftime('%d/%m/%Y'))\n",
    "\n",
    "#Se puede poner lo que se quiere entre las comillas\n",
    "print(\"Fecha\",hoy.strftime('%W %m %d'))\n",
    "\n",
    "#Nos da una fecha con / con digitos en el año\n",
    "print(\"Fecha\",hoy.strftime('%D'))\n",
    "\n"
   ]
  },
  {
   "cell_type": "code",
   "execution_count": null,
   "metadata": {},
   "outputs": [
    {
     "name": "stdout",
     "output_type": "stream",
     "text": [
      "2025-02-28 12:36:19.528877\n",
      "La hora actual es 2025-02-28 12:36:19.528877\n",
      "la hora es 12\n",
      "Los minutos son 36\n",
      "Los segundos son 19\n"
     ]
    }
   ],
   "source": [
    "\n",
    "from datetime import datetime as periodo\n",
    "ahora = periodo.now()   #Fecha + hora actuales o del sistema\n",
    "print(ahora)\n",
    "\n",
    "#Strftime con horas\n",
    "print(\"La hora actual es\",ahora)\n",
    "#El formato de la hora con %H mayus (siempre devuelve texto, 01, 09, 10)\n",
    "print(\"la hora es\",ahora.strftime('%H'))\n",
    "#El formato de la hora en minutos con %M mayus\n",
    "print(\"Los minutos son\",ahora.strftime('%M'))\n",
    "#El formato de la hora en segundos con %S\n",
    "print(\"Los segundos son\",ahora.strftime('%S')) "
   ]
  }
 ],
 "metadata": {
  "kernelspec": {
   "display_name": "Python 3",
   "language": "python",
   "name": "python3"
  },
  "language_info": {
   "codemirror_mode": {
    "name": "ipython",
    "version": 3
   },
   "file_extension": ".py",
   "mimetype": "text/x-python",
   "name": "python",
   "nbconvert_exporter": "python",
   "pygments_lexer": "ipython3",
   "version": "3.13.2"
  }
 },
 "nbformat": 4,
 "nbformat_minor": 2
}
