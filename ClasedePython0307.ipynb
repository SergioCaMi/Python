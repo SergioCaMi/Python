{
 "cells": [
  {
   "cell_type": "code",
   "execution_count": null,
   "metadata": {},
   "outputs": [],
   "source": [
    "# Para conectar con un servidor de BBDD, necesitamos una cadena de consexión. Habrá que indicar: \n",
    "# Nombre del servidor, Protocolo de conexión. \n",
    "# Instalar y llamar a una librería para conectar (pyodbc: normalmente se usa para backend) o SQLAlchemy\n",
    "\n"
   ]
  },
  {
   "cell_type": "code",
   "execution_count": 1,
   "metadata": {},
   "outputs": [
    {
     "name": "stdout",
     "output_type": "stream",
     "text": [
      "Collecting pyodbc\n",
      "  Downloading pyodbc-5.2.0-cp312-cp312-win_amd64.whl.metadata (2.8 kB)\n",
      "Downloading pyodbc-5.2.0-cp312-cp312-win_amd64.whl (69 kB)\n",
      "Installing collected packages: pyodbc\n",
      "Successfully installed pyodbc-5.2.0\n"
     ]
    }
   ],
   "source": [
    "# Para instalar la librería pyodbc:\n",
    "!pip install pyodbc"
   ]
  },
  {
   "cell_type": "code",
   "execution_count": 9,
   "metadata": {},
   "outputs": [
    {
     "name": "stderr",
     "output_type": "stream",
     "text": [
      "<>:4: SyntaxWarning: invalid escape sequence '\\S'\n",
      "<>:4: SyntaxWarning: invalid escape sequence '\\S'\n",
      "C:\\Users\\sergi\\AppData\\Local\\Temp\\ipykernel_32712\\3985674933.py:4: SyntaxWarning: invalid escape sequence '\\S'\n",
      "  server = 'SergioPC\\SQLEXPRESS'  #Nombre del servidor - (Desde propiedades de SQL Studio se puede copiar el nombre del servidor.)\n",
      "C:\\Users\\sergi\\AppData\\Local\\Temp\\ipykernel_32712\\3985674933.py:20: UserWarning: pandas only supports SQLAlchemy connectable (engine/connection) or database string URI or sqlite3 DBAPI2 connection. Other DBAPI2 objects are not tested. Please consider using SQLAlchemy.\n",
      "  df = pd.read_sql('SELECT * FROM dbo.Categorías', conexion)\n"
     ]
    },
    {
     "data": {
      "text/html": [
       "<div>\n",
       "<style scoped>\n",
       "    .dataframe tbody tr th:only-of-type {\n",
       "        vertical-align: middle;\n",
       "    }\n",
       "\n",
       "    .dataframe tbody tr th {\n",
       "        vertical-align: top;\n",
       "    }\n",
       "\n",
       "    .dataframe thead th {\n",
       "        text-align: right;\n",
       "    }\n",
       "</style>\n",
       "<table border=\"1\" class=\"dataframe\">\n",
       "  <thead>\n",
       "    <tr style=\"text-align: right;\">\n",
       "      <th></th>\n",
       "      <th>IdCategoria</th>\n",
       "      <th>NombreCategoria</th>\n",
       "      <th>Descripcion</th>\n",
       "    </tr>\n",
       "  </thead>\n",
       "  <tbody>\n",
       "    <tr>\n",
       "      <th>0</th>\n",
       "      <td>1</td>\n",
       "      <td>Bebidas</td>\n",
       "      <td>Gaseosas, café, té, cervezas y maltas</td>\n",
       "    </tr>\n",
       "    <tr>\n",
       "      <th>1</th>\n",
       "      <td>2</td>\n",
       "      <td>Condimentos</td>\n",
       "      <td>Salsas dulces y picantes, delicias, comida par...</td>\n",
       "    </tr>\n",
       "    <tr>\n",
       "      <th>2</th>\n",
       "      <td>3</td>\n",
       "      <td>Repostería</td>\n",
       "      <td>Postres, dulces y pan dulce</td>\n",
       "    </tr>\n",
       "    <tr>\n",
       "      <th>3</th>\n",
       "      <td>4</td>\n",
       "      <td>Lácteos</td>\n",
       "      <td>Quesos</td>\n",
       "    </tr>\n",
       "    <tr>\n",
       "      <th>4</th>\n",
       "      <td>5</td>\n",
       "      <td>Granos/Cereales</td>\n",
       "      <td>Pan, galletas, pasta y cereales</td>\n",
       "    </tr>\n",
       "    <tr>\n",
       "      <th>5</th>\n",
       "      <td>6</td>\n",
       "      <td>Carnes</td>\n",
       "      <td>Carnes preparadas</td>\n",
       "    </tr>\n",
       "    <tr>\n",
       "      <th>6</th>\n",
       "      <td>7</td>\n",
       "      <td>Frutas/Verduras</td>\n",
       "      <td>Frutas secas y queso de soja</td>\n",
       "    </tr>\n",
       "    <tr>\n",
       "      <th>7</th>\n",
       "      <td>8</td>\n",
       "      <td>Pescado/Marisco</td>\n",
       "      <td>Pescados, mariscos y algas</td>\n",
       "    </tr>\n",
       "  </tbody>\n",
       "</table>\n",
       "</div>"
      ],
      "text/plain": [
       "   IdCategoria  NombreCategoria  \\\n",
       "0            1          Bebidas   \n",
       "1            2      Condimentos   \n",
       "2            3       Repostería   \n",
       "3            4          Lácteos   \n",
       "4            5  Granos/Cereales   \n",
       "5            6           Carnes   \n",
       "6            7  Frutas/Verduras   \n",
       "7            8  Pescado/Marisco   \n",
       "\n",
       "                                         Descripcion  \n",
       "0              Gaseosas, café, té, cervezas y maltas  \n",
       "1  Salsas dulces y picantes, delicias, comida par...  \n",
       "2                        Postres, dulces y pan dulce  \n",
       "3                                             Quesos  \n",
       "4                    Pan, galletas, pasta y cereales  \n",
       "5                                  Carnes preparadas  \n",
       "6                       Frutas secas y queso de soja  \n",
       "7                         Pescados, mariscos y algas  "
      ]
     },
     "metadata": {},
     "output_type": "display_data"
    }
   ],
   "source": [
    "import pyodbc \n",
    "import pandas as pd\n",
    "#Configuración de la conexión\n",
    "server = 'SergioPC\\SQLEXPRESS'  #Nombre del servidor - (Desde propiedades de SQL Studio se puede copiar el nombre del servidor.)\n",
    "database = 'CIBERNARIUM'        #Nombre de la BBDD\n",
    "trusted = 'yes'                 #Seguridad de Windows - Windows Trusted server certificate\n",
    "\n",
    "#Vamos a crear la cadena de conexión: con una f'', puedo tener un texto formateado, y me va a permitir (entre llaves) poner el \n",
    "# nombre de una variable\n",
    "conn = (\n",
    "    f'DRIVER={{SQL Server}};'\n",
    "    f'SERVER={server};'\n",
    "    f'DATABASE={database};'\n",
    "    f'TRUSTED_CONNECTION={trusted};'\n",
    ")\n",
    "\n",
    "# El objeto conexión es la BBDD Cibernarium, que primero necesita conectarse mediante la cadena conexión\n",
    "conexion = pyodbc.connect(conn)\n",
    "#Cargamos en un dataframe lo que lee de la tabla\n",
    "df = pd.read_sql('SELECT * FROM dbo.Categorías', conexion)\n",
    "\n",
    "display(df)"
   ]
  }
 ],
 "metadata": {
  "kernelspec": {
   "display_name": "Python 3",
   "language": "python",
   "name": "python3"
  },
  "language_info": {
   "codemirror_mode": {
    "name": "ipython",
    "version": 3
   },
   "file_extension": ".py",
   "mimetype": "text/x-python",
   "name": "python",
   "nbconvert_exporter": "python",
   "pygments_lexer": "ipython3",
   "version": "3.12.3"
  }
 },
 "nbformat": 4,
 "nbformat_minor": 2
}
