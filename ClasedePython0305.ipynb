{
 "cells": [
  {
   "cell_type": "code",
   "execution_count": 2,
   "metadata": {},
   "outputs": [
    {
     "name": "stdout",
     "output_type": "stream",
     "text": [
      "Hoy es 03/03/2025 e incrementando 4 días es 07/03/2025\n"
     ]
    }
   ],
   "source": [
    "#Como sumar o restar días a una fecha, con la clase timedelta, en la librería datetime:\n",
    "\n",
    "from datetime import datetime, timedelta\n",
    "ahora = datetime.now()\n",
    "resultado = ahora + timedelta(days=4)\n",
    "print(\"Hoy es\", ahora.strftime('%d/%m/%Y'), \"e incrementando 4 días es\", resultado.strftime('%d/%m/%Y'))"
   ]
  },
  {
   "cell_type": "code",
   "execution_count": 4,
   "metadata": {},
   "outputs": [
    {
     "name": "stdout",
     "output_type": "stream",
     "text": [
      "Fecha y hora actual: 2025-03-03 10:08:43.856014\n",
      "Fecha y hora después de añadir 2 días, 6 horas, 20 minutos y 30 segundos: 2025-03-05 16:29:13.856014\n"
     ]
    }
   ],
   "source": [
    "from datetime import datetime, timedelta\n",
    "\n",
    "ahora = datetime.now()\n",
    "resultado = ahora + timedelta(days=2, hours=6, minutes=20, seconds=30)\n",
    "\n",
    "print(\"Fecha y hora actual:\", ahora)\n",
    "print(\"Fecha y hora después de añadir 2 días, 6 horas, 20 minutos y 30 segundos:\", resultado)\n"
   ]
  },
  {
   "cell_type": "code",
   "execution_count": 8,
   "metadata": {},
   "outputs": [
    {
     "name": "stdout",
     "output_type": "stream",
     "text": [
      "2023-11-05\n"
     ]
    }
   ],
   "source": [
    "#Método string parse time, se usa en Python para convertir una cadena de texto en una instancia de la clase datetime.astimezone\n",
    "\n",
    "fecha = \"05#11#2023\" #Quiero que sea la fecha 05/11/2023\n",
    "fecha2 = datetime.strptime(fecha, '%d#%m#%Y')\n",
    "print(fecha2.date())"
   ]
  },
  {
   "cell_type": "code",
   "execution_count": 25,
   "metadata": {},
   "outputs": [
    {
     "name": "stdout",
     "output_type": "stream",
     "text": [
      "2012-04-07 07:42:00\n",
      "2025-09-07 19:07:00\n",
      "2030-12-14 03:33:00\n",
      "2018-06-11 22:58:00\n",
      "2007-11-03 11:21:00\n",
      "2021-02-01 16:14:00\n"
     ]
    }
   ],
   "source": [
    "#Practica 22: Partiendo de 4 listas, en la primera contendra las fechas en formato \n",
    "# mes@dia@año, la segunda dias en numero, la tercera horas en numero, la cuarta minutos en numero.\n",
    "#El objetivo es generar una lista resultante que contenga el incremento de dias, horas y minutos, de cada elemento de la lista, teniendo en cuenta el mismo numero de orden o de indice\n",
    "#Lista 1       Lista 2     Lista 3      Lista 4    ->           Lista 5\n",
    "#05@11@2024          8          20           18        19/05/2024 20:18\n",
    "\n",
    "#Fechas = [\"03@15@2012\", \"07@22@2025\", \"11@09@2030\", \"05@30@2018\", \"09@14@2007\", \"01@03@2021\"]\n",
    "\n",
    "#Días = [23, 47, 35, 12, 50, 29]\n",
    "#Horas = [7, 19, 3, 22, 11, 16]\n",
    "#Minutos = [42, 7, 33, 58, 21, 14]\n",
    "\n",
    "from datetime import datetime, timedelta\n",
    "\n",
    "\n",
    "fechas = [\"03@15@2012\", \"07@22@2025\", \"11@09@2030\", \"05@30@2018\", \"09@14@2007\", \"01@03@2021\"]\n",
    "dias = [23, 47, 35, 12, 50, 29]\n",
    "horas = [7, 19, 3, 22, 11, 16]\n",
    "minutos = [42, 7, 33, 58, 21, 14]\n",
    "#Creamos una lista en blanco:\n",
    "fechas_finales=[]\n",
    "\n",
    "\n",
    "for i in range(6):\n",
    "    fecha = datetime.strptime(fechas[i], \"%m@%d@%Y\")\n",
    "    #Pasamos un string en formato día@mes@año largo a fecha\n",
    "    fechas_finales.append(fecha + timedelta(days=dias[i], hours=horas[i], minutes=minutos[i]))\n",
    "    #Le aumentamos a la fecha creada con el string, x días, x horas y x minutos y lo pasamos a la lista:\n",
    "    print(fechas_finales[i])\n",
    "\n",
    " \n",
    "\n",
    "\n",
    "\n"
   ]
  },
  {
   "cell_type": "code",
   "execution_count": null,
   "metadata": {},
   "outputs": [],
   "source": [
    "#Librerías externas de Python, la librería Pandas. \n",
    "#Primero se tiene que instalar, con pip o conda (pip es sólo para python, más específico y conda sirve para otros lenguajes también)\n",
    "\n",
    "#Para trabajar con pip, se puede hacer con el símbolo del sistema (CMD), PowerShell, VSC y otros IDEs (Terminales)...\n",
    "#pip se instala al instalar Python, pero se puede instalar aparte.\n",
    "\n",
    "#Donde está python\n",
    "#C:\\Windows\\System32>where python\n",
    "#C:\\Users\\sergi\\AppData\\Local\\Programs\\Python\\Python313\\python.exe\n",
    "#C:\\Users\\sergi\\AppData\\Local\\Programs\\Python\\Python311\\python.exe\n",
    "#C:\\Users\\sergi\\AppData\\Local\\Microsoft\\WindowsApps\\python.exe\n",
    "\n",
    "\n",
    "#Versión de pip\n",
    "#C:\\Windows\\System32>pip --version\n",
    "#pip 24.3.1 from #C:\\Users\\sergi\\AppData\\Local\\Programs\\Python\\Python313\\Lib\\site-packages\\p#ip (python 3.13)\n",
    "\n",
    "#librerías instaladas:\n",
    "#C:\\Windows\\System32>pip list\n",
    "#Package           Version\n",
    "#----------------- -----------\n",
    "#asttokens         3.0.0\n",
    "#colorama          0.4.6\n",
    "#comm              0.2.2\n",
    "#...\n",
    "\n",
    "#Vamos a ver la librería pandas, una de las más famosas y usadas. Sirve para trabajar con datos, importar los datos de diferentes oríagenes, transformarlos y a interpretarlos o exportarlos.\n",
    "#PowerBI Desktop, ya reconoce la librería pandas, mediante un script de Python directo, se puede conectar a un origen de datos y trabajar con él.\n",
    "\n",
    "\n",
    "#Pandas es la librería para empezar a introducir los datos con Python, pero no es la mejor, ya no se utiliza. Ahora se utiliza Polars o Vaex\n",
    "\n",
    "#Pandas cuenta con 3 tipos de estructuras, \n",
    "#Series = son estructuras de 1 dimension (asociado a indice) son homogeneas, tienen que tener el mismo tipo de datos.\n",
    "#Dataframes = Son estructuras de 2 dimensiones (Tabla de BBDD, consta de campos o columnas y filas o registros)\n",
    "#DataFrame es una colección de series.\n",
    "#Paneles: = son estructuras de 3 dimensiones (Al estilo de cubos OLAP o similar)\n",
    "\n",
    "#Como instalamos Pandas?\n",
    "#pip install pandas\n",
    "#Como desinstalar una librería? \n",
    "#pip uninstall librería\n",
    "#Una librería puede tener dependencias, que necesita de otras librerías. Se intalan todas a la vez.\n",
    "\n",
    "#Si nos pide una actualización del pip lo hacemos y es recomendable reinstalar lo que hayamos instalado\n"
   ]
  },
  {
   "cell_type": "code",
   "execution_count": 10,
   "metadata": {},
   "outputs": [
    {
     "data": {
      "text/plain": [
       "0        Lunes\n",
       "1       Martes\n",
       "2    Miercoles\n",
       "3       Jueves\n",
       "4      Viernes\n",
       "dtype: object"
      ]
     },
     "execution_count": 10,
     "metadata": {},
     "output_type": "execute_result"
    }
   ],
   "source": [
    "import pandas as pd      \n",
    "#es un convención universal lo del pd\n",
    "#Crear una serie alfanumerica\n",
    "semana = pd.Series(['Lunes','Martes','Miercoles','Jueves','Viernes'])\n",
    "semana\n",
    " \n",
    "semana2 = ['Lunes','Martes','Miercoles','Jueves','Viernes']\n",
    "serie_semana2 = pd.Series(data=semana2)\n",
    "serie_semana2 = pd.Series(semana2)\n",
    "serie_semana2\n",
    " \n",
    "\n",
    "\n",
    "\n",
    "\n"
   ]
  },
  {
   "cell_type": "code",
   "execution_count": 9,
   "metadata": {},
   "outputs": [
    {
     "data": {
      "text/plain": [
       "0    12\n",
       "1    58\n",
       "2    73\n",
       "3    68\n",
       "4    44\n",
       "5    35\n",
       "dtype: int64"
      ]
     },
     "execution_count": 9,
     "metadata": {},
     "output_type": "execute_result"
    }
   ],
   "source": [
    "#Cargar una serie a partir de una lista existente\n",
    "#numeros enteros\n",
    "numeros = [12, 58, 73, 68, 44, 35]\n",
    "serie_numeros = pd.Series(numeros)\n",
    "serie_numeros\n"
   ]
  },
  {
   "cell_type": "code",
   "execution_count": 8,
   "metadata": {},
   "outputs": [
    {
     "data": {
      "text/plain": [
       "0    3.50\n",
       "1    6.57\n",
       "2    8.32\n",
       "dtype: float64"
      ]
     },
     "execution_count": 8,
     "metadata": {},
     "output_type": "execute_result"
    }
   ],
   "source": [
    "#numeros float\n",
    "numeros2 = [3.5, 6.57, 8.32]\n",
    "serie_numeros2 = pd.Series(numeros2)\n",
    "serie_numeros2"
   ]
  },
  {
   "cell_type": "code",
   "execution_count": 6,
   "metadata": {},
   "outputs": [
    {
     "data": {
      "text/plain": [
       "0     True\n",
       "1     True\n",
       "2    False\n",
       "3     True\n",
       "4    False\n",
       "dtype: bool"
      ]
     },
     "execution_count": 6,
     "metadata": {},
     "output_type": "execute_result"
    }
   ],
   "source": [
    "#booleanos\n",
    "valores = [True, True, False, True, False]\n",
    "serie_booleana = pd.Series(valores)\n",
    "serie_booleana"
   ]
  },
  {
   "cell_type": "code",
   "execution_count": 4,
   "metadata": {},
   "outputs": [
    {
     "name": "stdout",
     "output_type": "stream",
     "text": [
      "La suma de la serie es 290\n",
      "El promedio de la serie es 48.333333333333336\n",
      "El promedio de la serie es 48.33 con redondeo\n",
      "El valor mas grande es 73\n",
      "El valor mas pequeño es 12\n",
      "El numero de filas es 6\n",
      "Lo valores acumulados son 0     12\n",
      "1     70\n",
      "2    143\n",
      "3    211\n",
      "4    255\n",
      "5    290\n",
      "dtype: int64\n"
     ]
    }
   ],
   "source": [
    "#Funciones de resumen de una serie numerica\n",
    "#para la suma función sum()\n",
    "print(\"La suma de la serie es\",serie_numeros.sum())\n",
    "#para el promedio función mean()\n",
    "print(\"El promedio de la serie es\",serie_numeros.mean())\n",
    "#El redondeo de decimales con round\n",
    "print(\"El promedio de la serie es\",round(serie_numeros.mean(),2),\"con redondeo\")\n",
    "#El valor mas grande y mas pequeño\n",
    "print(\"El valor mas grande es\",serie_numeros.max())\n",
    "print(\"El valor mas pequeño es\",serie_numeros.min())\n",
    "#El numero de elementos o numero de filas de la serie con count\n",
    "print(\"El numero de filas es\",serie_numeros.count())\n",
    "#El acumulado de la suma, con la función cumsum\n",
    "print(\"Lo valores acumulados son\",serie_numeros.cumsum())\n",
    " "
   ]
  },
  {
   "cell_type": "code",
   "execution_count": null,
   "metadata": {},
   "outputs": [
    {
     "name": "stdout",
     "output_type": "stream",
     "text": [
      "La varianza es 521.0666666666667\n",
      "La desviación tipica es 22.826884734160874\n",
      "Ver el resumen estadistico con describe count     6.000000\n",
      "mean     48.333333\n",
      "std      22.826885\n",
      "min      12.000000\n",
      "25%      37.250000\n",
      "50%      51.000000\n",
      "75%      65.500000\n",
      "max      73.000000\n",
      "dtype: float64\n"
     ]
    }
   ],
   "source": [
    "#Funciones de estadistica sobre una serie, la varianza; La variabilidad de una serie\n",
    "#numerica, respecto a su media, con la función var\n",
    "print(\"La varianza es\",serie_numeros.var())\n",
    "#Desviación tipica, es la desviación media de una variable, con respecto a su media\n",
    "#aritmetica, con la función std\n",
    "print(\"La desviación tipica es\",serie_numeros.std())\n",
    "#Ver un resumen estadistico, con la función describe, count, mean, std, los quartiles\n",
    "print(\"Ver el resumen estadistico con describe\",serie_numeros.describe())\n",
    "\n",
    "#varianza: variabilidad de una serie numerica respecto a su media"
   ]
  },
  {
   "cell_type": "code",
   "execution_count": 14,
   "metadata": {},
   "outputs": [
    {
     "name": "stdout",
     "output_type": "stream",
     "text": [
      "Serie +10 0    22\n",
      "1    68\n",
      "2    83\n",
      "3    78\n",
      "4    54\n",
      "5    45\n",
      "dtype: int64\n"
     ]
    }
   ],
   "source": [
    "#Transformación de una serie, quiero sumar 10 a todos los elementos de una serie. Crearemos\n",
    "#una función y la llamaremos con Apply, aplica a cada elemento de la serie la función llamada\n",
    "#numeros = [12,58,73,68,44,35]\n",
    "def suma10(numero):\n",
    "    return numero+10\n",
    "#Ver en el output la lista despues de incrementar 10, nombre de la serie, despues llamar\n",
    "#a Apply, en el print es solo lectura, no modifico el original\n",
    "#Con el apply le indicamos solo el nombre de la función y el internamente le pasa cada\n",
    "#vez el numero de cada elemento de la serie\n",
    "print(\"Serie +10\",serie_numeros.apply(suma10))\n",
    " "
   ]
  },
  {
   "cell_type": "code",
   "execution_count": 15,
   "metadata": {},
   "outputs": [
    {
     "data": {
      "text/plain": [
       "0    22\n",
       "1    68\n",
       "2    83\n",
       "3    78\n",
       "4    54\n",
       "5    45\n",
       "dtype: int64"
      ]
     },
     "execution_count": 15,
     "metadata": {},
     "output_type": "execute_result"
    }
   ],
   "source": [
    "#Es de salida (output), no hay ningun = para asignarlo\n",
    "serie_numeros.apply(suma10)\n",
    " "
   ]
  },
  {
   "cell_type": "code",
   "execution_count": 16,
   "metadata": {},
   "outputs": [
    {
     "data": {
      "text/plain": [
       "0     6.0\n",
       "1    29.0\n",
       "2    36.5\n",
       "3    34.0\n",
       "4    22.0\n",
       "5    17.5\n",
       "dtype: float64"
      ]
     },
     "execution_count": 16,
     "metadata": {},
     "output_type": "execute_result"
    }
   ],
   "source": [
    "#Puedo aplicar una formula aritmetica para cada elemento de la serie\n",
    "serie_numeros + 10\n",
    "serie_numeros / 2\n",
    " "
   ]
  },
  {
   "cell_type": "code",
   "execution_count": 18,
   "metadata": {},
   "outputs": [
    {
     "data": {
      "text/plain": [
       "0     42\n",
       "1     88\n",
       "2    103\n",
       "3     98\n",
       "4     74\n",
       "5     65\n",
       "dtype: int64"
      ]
     },
     "execution_count": 18,
     "metadata": {},
     "output_type": "execute_result"
    }
   ],
   "source": [
    "#Aqui se modifico el original\n",
    "serie_numeros = serie_numeros.apply(suma10)\n",
    "serie_numeros\n",
    "#Conservo el original, pero lo almaceno en otro objeto\n",
    "serie_numeros2 = serie_numeros.apply(suma10)\n",
    "serie_numeros2\n",
    " "
   ]
  },
  {
   "cell_type": "code",
   "execution_count": 21,
   "metadata": {},
   "outputs": [
    {
     "name": "stdout",
     "output_type": "stream",
     "text": [
      "ascendente\n",
      "0    32\n",
      "5    55\n",
      "4    64\n",
      "1    78\n",
      "3    88\n",
      "2    93\n",
      "dtype: int64\n",
      "descendente\n",
      "2    93\n",
      "3    88\n",
      "1    78\n",
      "4    64\n",
      "5    55\n",
      "0    32\n",
      "dtype: int64\n",
      "Reindexado\n",
      "0    93\n",
      "1    88\n",
      "2    78\n",
      "3    64\n",
      "4    55\n",
      "5    32\n",
      "dtype: int64\n"
     ]
    }
   ],
   "source": [
    "#Como ordenar una serie de pandas, con sort_values, ascending = True (ordena ascendente) o descendente con ascending = False.\n",
    "#True:\n",
    "print(\"ascendente\")\n",
    "print(serie_numeros.sort_values(ascending=True))\n",
    "#False\n",
    "print(\"descendente\")\n",
    "print(serie_numeros.sort_values(ascending=False))\n",
    "#Conserva el número de indice.\n",
    "#Si queremos indexar según la ordenación usaremos ignore_index = true\n",
    "print(\"Reindexado\")\n",
    "print(serie_numeros.sort_values(ascending=False, ignore_index=True))"
   ]
  },
  {
   "cell_type": "code",
   "execution_count": 31,
   "metadata": {},
   "outputs": [
    {
     "data": {
      "text/plain": [
       "0    32\n",
       "dtype: int64"
      ]
     },
     "execution_count": 31,
     "metadata": {},
     "output_type": "execute_result"
    }
   ],
   "source": [
    "#El filtrado de una serie, muestrame solo los elementos que sean >50\n",
    "serie_numeros[serie_numeros>50]\n",
    "#El criterio de filtrado va entre '[]'\n",
    "\n",
    "\n",
    "#Alternativa: sería guardar el filtro en un objeto\n",
    "fm50 = serie_numeros<50\n",
    "serie_numeros[fm50]\n",
    "fm50\n",
    "\n",
    "\n",
    "#Filtrar + ordenar\n",
    "serie_numeros[fm50].sort_values(ascending=True, ignore_index=True)"
   ]
  },
  {
   "cell_type": "code",
   "execution_count": 30,
   "metadata": {},
   "outputs": [
    {
     "data": {
      "text/plain": [
       "0    32\n",
       "dtype: int64"
      ]
     },
     "execution_count": 30,
     "metadata": {},
     "output_type": "execute_result"
    }
   ],
   "source": [
    "#El filtrado de una serie, muestrame solo los elementos que sean mayor de 50\n",
    "#El criterio de filtrado va entre corchetes\n",
    "serie_numeros[serie_numeros>50]\n",
    " \n",
    "#Alternativa guardar el filtro en un objeto booleano\n",
    "FM50 = serie_numeros<50\n",
    "serie_numeros[FM50]\n",
    " \n",
    "#Todo junto filtrar + ordenar, a la vez\n",
    "serie_numeros[FM50].sort_values(ascending=True,ignore_index=True)\n",
    " \n"
   ]
  }
 ],
 "metadata": {
  "kernelspec": {
   "display_name": "Python 3",
   "language": "python",
   "name": "python3"
  },
  "language_info": {
   "codemirror_mode": {
    "name": "ipython",
    "version": 3
   },
   "file_extension": ".py",
   "mimetype": "text/x-python",
   "name": "python",
   "nbconvert_exporter": "python",
   "pygments_lexer": "ipython3",
   "version": "3.12.3"
  }
 },
 "nbformat": 4,
 "nbformat_minor": 2
}
