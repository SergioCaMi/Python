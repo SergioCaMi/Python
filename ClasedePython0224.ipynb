{
 "cells": [
  {
   "cell_type": "code",
   "execution_count": 1,
   "metadata": {},
   "outputs": [],
   "source": [
    "x=10\n"
   ]
  },
  {
   "cell_type": "code",
   "execution_count": 3,
   "metadata": {},
   "outputs": [
    {
     "data": {
      "text/plain": [
       "13"
      ]
     },
     "execution_count": 3,
     "metadata": {},
     "output_type": "execute_result"
    }
   ],
   "source": [
    "x+3"
   ]
  },
  {
   "cell_type": "code",
   "execution_count": 4,
   "metadata": {},
   "outputs": [
    {
     "data": {
      "text/plain": [
       "16"
      ]
     },
     "execution_count": 4,
     "metadata": {},
     "output_type": "execute_result"
    }
   ],
   "source": [
    "X=5\n",
    "x+X\n",
    "x+6"
   ]
  },
  {
   "cell_type": "code",
   "execution_count": 5,
   "metadata": {},
   "outputs": [
    {
     "name": "stdout",
     "output_type": "stream",
     "text": [
      "Imprime el resultado 19\n"
     ]
    }
   ],
   "source": [
    "print(\"Imprime el resultado\",x+9)"
   ]
  },
  {
   "cell_type": "code",
   "execution_count": 6,
   "metadata": {},
   "outputs": [
    {
     "name": "stdout",
     "output_type": "stream",
     "text": [
      "Imprime el resultado 19\n",
      "Imprime el resultado 14\n"
     ]
    }
   ],
   "source": [
    "print(\"Imprime el resultado\",x+9)\n",
    "print(\"Imprime el resultado\",x+4)"
   ]
  },
  {
   "cell_type": "code",
   "execution_count": 9,
   "metadata": {},
   "outputs": [
    {
     "name": "stdout",
     "output_type": "stream",
     "text": [
      "El día de la semana es Lunes\n",
      "\n",
      "Mañana será Martes\n"
     ]
    }
   ],
   "source": [
    "dia = \"Lunes\"\n",
    "dia2 = \"Martes\"\n",
    "print(\"El día de la semana es\", dia)\n",
    "print(\"\")\n",
    "print(\"Mañana será\", dia2)"
   ]
  },
  {
   "cell_type": "code",
   "execution_count": 10,
   "metadata": {},
   "outputs": [
    {
     "name": "stdout",
     "output_type": "stream",
     "text": [
      "El mes seleccionado es Marzo\n"
     ]
    }
   ],
   "source": [
    "mes = input(\"Que mes es?\")\n",
    "print(\"El mes seleccionado es\", mes)"
   ]
  },
  {
   "cell_type": "code",
   "execution_count": 12,
   "metadata": {},
   "outputs": [
    {
     "name": "stdout",
     "output_type": "stream",
     "text": [
      "Lunes\n"
     ]
    }
   ],
   "source": [
    "lista1 = [12,25,\"Lunes\",\"Martes\",67]\n",
    "print(lista1[2])"
   ]
  },
  {
   "cell_type": "code",
   "execution_count": 14,
   "metadata": {},
   "outputs": [
    {
     "name": "stdout",
     "output_type": "stream",
     "text": [
      "[12, 25, 'Lunes', 'Martes', 67, 'miércoles', 'miércoles']\n"
     ]
    }
   ],
   "source": [
    "lista1.append(\"miércoles\")\n",
    "print(lista1)"
   ]
  },
  {
   "cell_type": "code",
   "execution_count": 15,
   "metadata": {},
   "outputs": [
    {
     "name": "stdout",
     "output_type": "stream",
     "text": [
      "['Sábado', 12, 25, 'Lunes', 'Martes', 67, 'miércoles', 'miércoles']\n"
     ]
    }
   ],
   "source": [
    "lista1.insert(0, \"Sábado\")\n",
    "print(lista1)"
   ]
  },
  {
   "cell_type": "code",
   "execution_count": 18,
   "metadata": {},
   "outputs": [],
   "source": [
    "del lista1[5]\n"
   ]
  },
  {
   "cell_type": "code",
   "execution_count": 21,
   "metadata": {},
   "outputs": [
    {
     "name": "stdout",
     "output_type": "stream",
     "text": [
      "['Sábado', 12, 25, 'Lunes', 'Martes']\n"
     ]
    }
   ],
   "source": [
    "print(lista1)"
   ]
  },
  {
   "cell_type": "code",
   "execution_count": 20,
   "metadata": {},
   "outputs": [],
   "source": [
    "lista1.remove(\"miércoles\")\n"
   ]
  },
  {
   "cell_type": "code",
   "execution_count": 1,
   "metadata": {},
   "outputs": [
    {
     "name": "stdout",
     "output_type": "stream",
     "text": [
      "['Enero', 'Febrero', 'Marzo', 'Mayo', 'Junio']\n",
      "['Enero', 'Febrero', 'Marzo', 'Mayo', 'Junio', 'Julio', 'Agosto']\n",
      "['Enero', 'Febrero', 'Marzo', 'Abril', 'Mayo', 'Junio', 'Julio', 'Agosto']\n",
      "['Enero', 'Febrero', 'Marzo', 'Abril', 'Mayo', 'Junio', 'Julio', 'Agosto', 'Marzo', 'Junio']\n",
      "['Enero', 'Febrero', 'Marzo', 'Abril', 'Mayo', 'Junio', 'Julio', 'Agosto']\n"
     ]
    }
   ],
   "source": [
    "listaMeses = [\"Enero\", \"Febrero\", \"Marzo\", \"Mayo\", \"Junio\"]\n",
    "print(listaMeses)\n",
    "listaMeses.append(\"Julio\")\n",
    "listaMeses.append(\"Agosto\")\n",
    "print(listaMeses)\n",
    "listaMeses.insert(3, \"Abril\")\n",
    "print(listaMeses)\n",
    "listaMeses.append(\"Marzo\")\n",
    "listaMeses.append(\"Junio\")\n",
    "print(listaMeses)\n",
    "del listaMeses[8]\n",
    "del listaMeses[8]\n",
    "print(listaMeses)"
   ]
  },
  {
   "cell_type": "code",
   "execution_count": 2,
   "metadata": {},
   "outputs": [
    {
     "name": "stdout",
     "output_type": "stream",
     "text": [
      "10 es mayor que 5\n"
     ]
    }
   ],
   "source": [
    "i = 10\n",
    "if i>5:\n",
    "\tprint(i, \"es mayor que 5\")\n",
    "else:\n",
    "\tprint(i, \"es menor o igual que 5\")\n"
   ]
  },
  {
   "cell_type": "code",
   "execution_count": 5,
   "metadata": {},
   "outputs": [
    {
     "ename": "ValueError",
     "evalue": "invalid literal for int() with base 10: '3.4'",
     "output_type": "error",
     "traceback": [
      "\u001b[1;31m---------------------------------------------------------------------------\u001b[0m",
      "\u001b[1;31mValueError\u001b[0m                                Traceback (most recent call last)",
      "Cell \u001b[1;32mIn[5], line 2\u001b[0m\n\u001b[0;32m      1\u001b[0m i\u001b[38;5;241m=\u001b[39m\u001b[38;5;28minput\u001b[39m(\u001b[38;5;124m'\u001b[39m\u001b[38;5;124mPon un número\u001b[39m\u001b[38;5;124m'\u001b[39m)\n\u001b[1;32m----> 2\u001b[0m \u001b[38;5;28mprint\u001b[39m(\u001b[38;5;28;43mint\u001b[39;49m\u001b[43m(\u001b[49m\u001b[43mi\u001b[49m\u001b[43m)\u001b[49m\u001b[38;5;241m+\u001b[39m\u001b[38;5;241m3\u001b[39m)\n",
      "\u001b[1;31mValueError\u001b[0m: invalid literal for int() with base 10: '3.4'"
     ]
    }
   ],
   "source": [
    "i=input('Pon un número')\n",
    "print(int(i)+3)"
   ]
  },
  {
   "cell_type": "code",
   "execution_count": 4,
   "metadata": {},
   "outputs": [
    {
     "name": "stdout",
     "output_type": "stream",
     "text": [
      "6.5\n"
     ]
    }
   ],
   "source": [
    "i=input('Pon un número:')\n",
    "print(float(i)+3)"
   ]
  },
  {
   "cell_type": "code",
   "execution_count": 15,
   "metadata": {},
   "outputs": [
    {
     "name": "stdout",
     "output_type": "stream",
     "text": [
      "21.5\n",
      "21.5 es mayor que 20\n"
     ]
    }
   ],
   "source": [
    "i=input('Pon un número:')\n",
    "print(float(i))\n",
    "if float(i)>20:\n",
    "\tprint(float(i), \"es mayor que 20\")\n",
    "else:\n",
    "\tprint(float(i), \"es menor o igual que 20\")"
   ]
  },
  {
   "cell_type": "code",
   "execution_count": 16,
   "metadata": {},
   "outputs": [
    {
     "name": "stdout",
     "output_type": "stream",
     "text": [
      "50\n",
      "50 es mayor que 20\n"
     ]
    }
   ],
   "source": [
    "i=int(input('Pon un número:'))\n",
    "print(i)\n",
    "if i>20:\n",
    "\tprint(i, \"es mayor que 20\")\n",
    "else:\n",
    "\tprint(i, \"es menor o igual que 20\")"
   ]
  },
  {
   "cell_type": "code",
   "execution_count": 17,
   "metadata": {},
   "outputs": [
    {
     "name": "stdout",
     "output_type": "stream",
     "text": [
      "El valor de i es 1\n",
      "El valor de i es 2\n",
      "El valor de i es 3\n",
      "El valor de i es 4\n",
      "El valor de i es 5\n"
     ]
    }
   ],
   "source": [
    "for i in [1, 2, 3, 4, 5]: \n",
    "\tprint(\"El valor de i es\", i)"
   ]
  },
  {
   "cell_type": "markdown",
   "metadata": {},
   "source": []
  },
  {
   "cell_type": "code",
   "execution_count": 18,
   "metadata": {},
   "outputs": [
    {
     "name": "stdout",
     "output_type": "stream",
     "text": [
      "El valor de i es Barcelona\n",
      "El valor de i es Tarragona\n",
      "El valor de i es Lleida\n",
      "El valor de i es Girona\n"
     ]
    }
   ],
   "source": [
    "for i in [\"Barcelona\", \"Tarragona\", \"Lleida\", \"Girona\"]:\n",
    "        print(\"El valor de i es\", i)"
   ]
  },
  {
   "cell_type": "code",
   "execution_count": 19,
   "metadata": {},
   "outputs": [
    {
     "data": {
      "text/plain": [
       "[0, 1, 2, 3, 4, 5, 6, 7, 8, 9]"
      ]
     },
     "execution_count": 19,
     "metadata": {},
     "output_type": "execute_result"
    }
   ],
   "source": [
    "listaNumeros = range (10)\n",
    "list(listaNumeros)"
   ]
  },
  {
   "cell_type": "code",
   "execution_count": 20,
   "metadata": {},
   "outputs": [
    {
     "data": {
      "text/plain": [
       "[10, 11, 12, 13, 14, 15, 16, 17, 18, 19, 20, 21, 22, 23, 24, 25]"
      ]
     },
     "execution_count": 20,
     "metadata": {},
     "output_type": "execute_result"
    }
   ],
   "source": [
    "listaNumeros = range (10,26)\n",
    "list(listaNumeros)"
   ]
  },
  {
   "cell_type": "code",
   "execution_count": 21,
   "metadata": {},
   "outputs": [
    {
     "data": {
      "text/plain": [
       "[10, 12, 14, 16, 18, 20, 22, 24]"
      ]
     },
     "execution_count": 21,
     "metadata": {},
     "output_type": "execute_result"
    }
   ],
   "source": [
    "listaNumeros = range (10,26,2)\n",
    "list(listaNumeros)"
   ]
  },
  {
   "cell_type": "code",
   "execution_count": 22,
   "metadata": {},
   "outputs": [
    {
     "name": "stdout",
     "output_type": "stream",
     "text": [
      "range(10, 26, 2)\n"
     ]
    }
   ],
   "source": [
    "print(listaNumeros)"
   ]
  },
  {
   "cell_type": "code",
   "execution_count": 24,
   "metadata": {},
   "outputs": [
    {
     "data": {
      "text/plain": [
       "[50, 48, 46, 44, 42, 40, 38, 36, 34, 32, 30, 28, 26, 24, 22]"
      ]
     },
     "execution_count": 24,
     "metadata": {},
     "output_type": "execute_result"
    }
   ],
   "source": [
    "listaNumeros = range (50,20, -2)\n",
    "list(listaNumeros)"
   ]
  },
  {
   "cell_type": "code",
   "execution_count": 25,
   "metadata": {},
   "outputs": [
    {
     "name": "stdout",
     "output_type": "stream",
     "text": [
      "0\n",
      "1\n",
      "2\n",
      "3\n",
      "4\n",
      "5\n",
      "6\n",
      "7\n",
      "8\n",
      "9\n"
     ]
    }
   ],
   "source": [
    "for i in range(10):\n",
    "\tprint(i)"
   ]
  },
  {
   "cell_type": "code",
   "execution_count": 31,
   "metadata": {},
   "outputs": [
    {
     "name": "stdout",
     "output_type": "stream",
     "text": [
      "El valor de i 10\n",
      "El número de iteración es 1\n",
      "El valor de i 11\n",
      "El número de iteración es 2\n",
      "El valor de i 12\n",
      "El número de iteración es 3\n",
      "El valor de i 13\n",
      "El número de iteración es 4\n",
      "El valor de i 14\n",
      "El número de iteración es 5\n",
      "El valor de i 15\n",
      "El número de iteración es 6\n",
      "El valor de i 16\n",
      "El número de iteración es 7\n",
      "El valor de i 17\n",
      "El número de iteración es 8\n",
      "El valor de i 18\n",
      "El número de iteración es 9\n",
      "El valor de i 19\n",
      "El número de iteración es 10\n",
      "El valor de i 20\n",
      "El número de iteración es 11\n",
      "El valor de i 21\n",
      "El número de iteración es 12\n",
      "El valor de i 22\n",
      "El número de iteración es 13\n",
      "El valor de i 23\n",
      "El número de iteración es 14\n",
      "El valor de i 24\n",
      "El número de iteración es 15\n"
     ]
    }
   ],
   "source": [
    "iter = 1\n",
    "\n",
    "for i in range(10,25,1):\n",
    "\tprint(\"El valor de i\", i)\n",
    "\tprint(\"El número de iteración es\", iter)\n",
    "\titer+= 1\n",
    "\t"
   ]
  }
 ],
 "metadata": {
  "kernelspec": {
   "display_name": "Python 3",
   "language": "python",
   "name": "python3"
  },
  "language_info": {
   "codemirror_mode": {
    "name": "ipython",
    "version": 3
   },
   "file_extension": ".py",
   "mimetype": "text/x-python",
   "name": "python",
   "nbconvert_exporter": "python",
   "pygments_lexer": "ipython3",
   "version": "3.12.3"
  }
 },
 "nbformat": 4,
 "nbformat_minor": 2
}
